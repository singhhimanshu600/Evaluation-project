{
 "cells": [
  {
   "cell_type": "markdown",
   "id": "f4ccf3aa",
   "metadata": {},
   "source": [
    "### Evaluation Project - 2\n",
    "Avacado Project\n",
    "Problem Statement:\n",
    "Avocado is a fruit consumed by people heavily in the United States. \n",
    "\n",
    "Content\n",
    "This data was downloaded from the Hass Avocado Board website in May of 2018 & compiled into a single CSV. \n",
    "\n",
    "The table below represents weekly 2018 retail scan data for National retail volume (units) and price. Retail scan data comes directly from retailers’ cash registers based on actual retail sales of Hass avocados. \n",
    "\n",
    "Starting in 2013, the table below reflects an expanded, multi-outlet retail data set. Multi-outlet reporting includes an aggregation of the following channels: grocery, mass, club, drug, dollar and military. The Average Price (of avocados) in the table reflects a per unit (per avocado) cost, even when multiple units (avocados) are sold in bags. \n",
    "\n",
    "The Product Lookup codes (PLU’s) in the table are only for Hass avocados. Other varieties of avocados (e.g. greenskins) are not included in this table.\n",
    "\n",
    "Some relevant columns in the dataset:\n",
    "\n",
    "Date - The date of the observation\n",
    "AveragePrice - the average price of a single avocado\n",
    "type - conventional or organic\n",
    "year - the year\n",
    "Region - the city or region of the observation\n",
    "Total Volume - Total number of avocados sold\n",
    "4046 - Total number of avocados with PLU 4046 sold\n",
    "4225 - Total number of avocados with PLU 4225 sold\n",
    "4770 - Total number of avocados with PLU 4770 sold\n",
    "\n",
    "\n",
    "Inspiration /Label \n",
    "\n",
    "The dataset can be seen in two angles to find the region and find the average price .\n",
    "\n",
    "Task: One of Classification and other of Regression\n",
    "\n",
    "Do both tasks in the same .ipynb file and submit at single file. \n",
    "\n",
    "To download the dataset, use the link given below. \n",
    "\n",
    "Downlaod Files:\n",
    "https://github.com/dsrscientist/Data-Science-ML-Capstone-Projects/blob/master/avocado.csv.zip"
   ]
  },
  {
   "cell_type": "code",
   "execution_count": 1,
   "id": "59c981e5",
   "metadata": {},
   "outputs": [],
   "source": [
    "import pandas as pd\n",
    "import numpy as np\n",
    "import matplotlib.pyplot as plt\n",
    "import seaborn as sns\n",
    "%matplotlib inline\n",
    "import warnings\n",
    "warnings.filterwarnings('ignore')"
   ]
  },
  {
   "cell_type": "code",
   "execution_count": 2,
   "id": "94396080",
   "metadata": {},
   "outputs": [],
   "source": [
    "df = pd.read_csv(\"C:\\\\Users\\\\singh\\\\Downloads\\\\avocado.csv.zip\")"
   ]
  },
  {
   "cell_type": "code",
   "execution_count": 3,
   "id": "e1242faa",
   "metadata": {},
   "outputs": [
    {
     "data": {
      "text/html": [
       "<div>\n",
       "<style scoped>\n",
       "    .dataframe tbody tr th:only-of-type {\n",
       "        vertical-align: middle;\n",
       "    }\n",
       "\n",
       "    .dataframe tbody tr th {\n",
       "        vertical-align: top;\n",
       "    }\n",
       "\n",
       "    .dataframe thead th {\n",
       "        text-align: right;\n",
       "    }\n",
       "</style>\n",
       "<table border=\"1\" class=\"dataframe\">\n",
       "  <thead>\n",
       "    <tr style=\"text-align: right;\">\n",
       "      <th></th>\n",
       "      <th>Unnamed: 0</th>\n",
       "      <th>Date</th>\n",
       "      <th>AveragePrice</th>\n",
       "      <th>Total Volume</th>\n",
       "      <th>4046</th>\n",
       "      <th>4225</th>\n",
       "      <th>4770</th>\n",
       "      <th>Total Bags</th>\n",
       "      <th>Small Bags</th>\n",
       "      <th>Large Bags</th>\n",
       "      <th>XLarge Bags</th>\n",
       "      <th>type</th>\n",
       "      <th>year</th>\n",
       "      <th>region</th>\n",
       "    </tr>\n",
       "  </thead>\n",
       "  <tbody>\n",
       "    <tr>\n",
       "      <th>0</th>\n",
       "      <td>0</td>\n",
       "      <td>2015-12-27</td>\n",
       "      <td>1.33</td>\n",
       "      <td>64236.62</td>\n",
       "      <td>1036.74</td>\n",
       "      <td>54454.85</td>\n",
       "      <td>48.16</td>\n",
       "      <td>8696.87</td>\n",
       "      <td>8603.62</td>\n",
       "      <td>93.25</td>\n",
       "      <td>0.0</td>\n",
       "      <td>conventional</td>\n",
       "      <td>2015</td>\n",
       "      <td>Albany</td>\n",
       "    </tr>\n",
       "    <tr>\n",
       "      <th>1</th>\n",
       "      <td>1</td>\n",
       "      <td>2015-12-20</td>\n",
       "      <td>1.35</td>\n",
       "      <td>54876.98</td>\n",
       "      <td>674.28</td>\n",
       "      <td>44638.81</td>\n",
       "      <td>58.33</td>\n",
       "      <td>9505.56</td>\n",
       "      <td>9408.07</td>\n",
       "      <td>97.49</td>\n",
       "      <td>0.0</td>\n",
       "      <td>conventional</td>\n",
       "      <td>2015</td>\n",
       "      <td>Albany</td>\n",
       "    </tr>\n",
       "    <tr>\n",
       "      <th>2</th>\n",
       "      <td>2</td>\n",
       "      <td>2015-12-13</td>\n",
       "      <td>0.93</td>\n",
       "      <td>118220.22</td>\n",
       "      <td>794.70</td>\n",
       "      <td>109149.67</td>\n",
       "      <td>130.50</td>\n",
       "      <td>8145.35</td>\n",
       "      <td>8042.21</td>\n",
       "      <td>103.14</td>\n",
       "      <td>0.0</td>\n",
       "      <td>conventional</td>\n",
       "      <td>2015</td>\n",
       "      <td>Albany</td>\n",
       "    </tr>\n",
       "    <tr>\n",
       "      <th>3</th>\n",
       "      <td>3</td>\n",
       "      <td>2015-12-06</td>\n",
       "      <td>1.08</td>\n",
       "      <td>78992.15</td>\n",
       "      <td>1132.00</td>\n",
       "      <td>71976.41</td>\n",
       "      <td>72.58</td>\n",
       "      <td>5811.16</td>\n",
       "      <td>5677.40</td>\n",
       "      <td>133.76</td>\n",
       "      <td>0.0</td>\n",
       "      <td>conventional</td>\n",
       "      <td>2015</td>\n",
       "      <td>Albany</td>\n",
       "    </tr>\n",
       "    <tr>\n",
       "      <th>4</th>\n",
       "      <td>4</td>\n",
       "      <td>2015-11-29</td>\n",
       "      <td>1.28</td>\n",
       "      <td>51039.60</td>\n",
       "      <td>941.48</td>\n",
       "      <td>43838.39</td>\n",
       "      <td>75.78</td>\n",
       "      <td>6183.95</td>\n",
       "      <td>5986.26</td>\n",
       "      <td>197.69</td>\n",
       "      <td>0.0</td>\n",
       "      <td>conventional</td>\n",
       "      <td>2015</td>\n",
       "      <td>Albany</td>\n",
       "    </tr>\n",
       "    <tr>\n",
       "      <th>...</th>\n",
       "      <td>...</td>\n",
       "      <td>...</td>\n",
       "      <td>...</td>\n",
       "      <td>...</td>\n",
       "      <td>...</td>\n",
       "      <td>...</td>\n",
       "      <td>...</td>\n",
       "      <td>...</td>\n",
       "      <td>...</td>\n",
       "      <td>...</td>\n",
       "      <td>...</td>\n",
       "      <td>...</td>\n",
       "      <td>...</td>\n",
       "      <td>...</td>\n",
       "    </tr>\n",
       "    <tr>\n",
       "      <th>18244</th>\n",
       "      <td>7</td>\n",
       "      <td>2018-02-04</td>\n",
       "      <td>1.63</td>\n",
       "      <td>17074.83</td>\n",
       "      <td>2046.96</td>\n",
       "      <td>1529.20</td>\n",
       "      <td>0.00</td>\n",
       "      <td>13498.67</td>\n",
       "      <td>13066.82</td>\n",
       "      <td>431.85</td>\n",
       "      <td>0.0</td>\n",
       "      <td>organic</td>\n",
       "      <td>2018</td>\n",
       "      <td>WestTexNewMexico</td>\n",
       "    </tr>\n",
       "    <tr>\n",
       "      <th>18245</th>\n",
       "      <td>8</td>\n",
       "      <td>2018-01-28</td>\n",
       "      <td>1.71</td>\n",
       "      <td>13888.04</td>\n",
       "      <td>1191.70</td>\n",
       "      <td>3431.50</td>\n",
       "      <td>0.00</td>\n",
       "      <td>9264.84</td>\n",
       "      <td>8940.04</td>\n",
       "      <td>324.80</td>\n",
       "      <td>0.0</td>\n",
       "      <td>organic</td>\n",
       "      <td>2018</td>\n",
       "      <td>WestTexNewMexico</td>\n",
       "    </tr>\n",
       "    <tr>\n",
       "      <th>18246</th>\n",
       "      <td>9</td>\n",
       "      <td>2018-01-21</td>\n",
       "      <td>1.87</td>\n",
       "      <td>13766.76</td>\n",
       "      <td>1191.92</td>\n",
       "      <td>2452.79</td>\n",
       "      <td>727.94</td>\n",
       "      <td>9394.11</td>\n",
       "      <td>9351.80</td>\n",
       "      <td>42.31</td>\n",
       "      <td>0.0</td>\n",
       "      <td>organic</td>\n",
       "      <td>2018</td>\n",
       "      <td>WestTexNewMexico</td>\n",
       "    </tr>\n",
       "    <tr>\n",
       "      <th>18247</th>\n",
       "      <td>10</td>\n",
       "      <td>2018-01-14</td>\n",
       "      <td>1.93</td>\n",
       "      <td>16205.22</td>\n",
       "      <td>1527.63</td>\n",
       "      <td>2981.04</td>\n",
       "      <td>727.01</td>\n",
       "      <td>10969.54</td>\n",
       "      <td>10919.54</td>\n",
       "      <td>50.00</td>\n",
       "      <td>0.0</td>\n",
       "      <td>organic</td>\n",
       "      <td>2018</td>\n",
       "      <td>WestTexNewMexico</td>\n",
       "    </tr>\n",
       "    <tr>\n",
       "      <th>18248</th>\n",
       "      <td>11</td>\n",
       "      <td>2018-01-07</td>\n",
       "      <td>1.62</td>\n",
       "      <td>17489.58</td>\n",
       "      <td>2894.77</td>\n",
       "      <td>2356.13</td>\n",
       "      <td>224.53</td>\n",
       "      <td>12014.15</td>\n",
       "      <td>11988.14</td>\n",
       "      <td>26.01</td>\n",
       "      <td>0.0</td>\n",
       "      <td>organic</td>\n",
       "      <td>2018</td>\n",
       "      <td>WestTexNewMexico</td>\n",
       "    </tr>\n",
       "  </tbody>\n",
       "</table>\n",
       "<p>18249 rows × 14 columns</p>\n",
       "</div>"
      ],
      "text/plain": [
       "       Unnamed: 0        Date  AveragePrice  Total Volume     4046       4225  \\\n",
       "0               0  2015-12-27          1.33      64236.62  1036.74   54454.85   \n",
       "1               1  2015-12-20          1.35      54876.98   674.28   44638.81   \n",
       "2               2  2015-12-13          0.93     118220.22   794.70  109149.67   \n",
       "3               3  2015-12-06          1.08      78992.15  1132.00   71976.41   \n",
       "4               4  2015-11-29          1.28      51039.60   941.48   43838.39   \n",
       "...           ...         ...           ...           ...      ...        ...   \n",
       "18244           7  2018-02-04          1.63      17074.83  2046.96    1529.20   \n",
       "18245           8  2018-01-28          1.71      13888.04  1191.70    3431.50   \n",
       "18246           9  2018-01-21          1.87      13766.76  1191.92    2452.79   \n",
       "18247          10  2018-01-14          1.93      16205.22  1527.63    2981.04   \n",
       "18248          11  2018-01-07          1.62      17489.58  2894.77    2356.13   \n",
       "\n",
       "         4770  Total Bags  Small Bags  Large Bags  XLarge Bags          type  \\\n",
       "0       48.16     8696.87     8603.62       93.25          0.0  conventional   \n",
       "1       58.33     9505.56     9408.07       97.49          0.0  conventional   \n",
       "2      130.50     8145.35     8042.21      103.14          0.0  conventional   \n",
       "3       72.58     5811.16     5677.40      133.76          0.0  conventional   \n",
       "4       75.78     6183.95     5986.26      197.69          0.0  conventional   \n",
       "...       ...         ...         ...         ...          ...           ...   \n",
       "18244    0.00    13498.67    13066.82      431.85          0.0       organic   \n",
       "18245    0.00     9264.84     8940.04      324.80          0.0       organic   \n",
       "18246  727.94     9394.11     9351.80       42.31          0.0       organic   \n",
       "18247  727.01    10969.54    10919.54       50.00          0.0       organic   \n",
       "18248  224.53    12014.15    11988.14       26.01          0.0       organic   \n",
       "\n",
       "       year            region  \n",
       "0      2015            Albany  \n",
       "1      2015            Albany  \n",
       "2      2015            Albany  \n",
       "3      2015            Albany  \n",
       "4      2015            Albany  \n",
       "...     ...               ...  \n",
       "18244  2018  WestTexNewMexico  \n",
       "18245  2018  WestTexNewMexico  \n",
       "18246  2018  WestTexNewMexico  \n",
       "18247  2018  WestTexNewMexico  \n",
       "18248  2018  WestTexNewMexico  \n",
       "\n",
       "[18249 rows x 14 columns]"
      ]
     },
     "execution_count": 3,
     "metadata": {},
     "output_type": "execute_result"
    }
   ],
   "source": [
    "df"
   ]
  },
  {
   "cell_type": "code",
   "execution_count": 4,
   "id": "5b4b00ba",
   "metadata": {},
   "outputs": [],
   "source": [
    "df.drop(columns = ['Unnamed: 0'],inplace = True)"
   ]
  },
  {
   "cell_type": "code",
   "execution_count": 5,
   "id": "75881090",
   "metadata": {},
   "outputs": [
    {
     "data": {
      "text/html": [
       "<div>\n",
       "<style scoped>\n",
       "    .dataframe tbody tr th:only-of-type {\n",
       "        vertical-align: middle;\n",
       "    }\n",
       "\n",
       "    .dataframe tbody tr th {\n",
       "        vertical-align: top;\n",
       "    }\n",
       "\n",
       "    .dataframe thead th {\n",
       "        text-align: right;\n",
       "    }\n",
       "</style>\n",
       "<table border=\"1\" class=\"dataframe\">\n",
       "  <thead>\n",
       "    <tr style=\"text-align: right;\">\n",
       "      <th></th>\n",
       "      <th>Date</th>\n",
       "      <th>AveragePrice</th>\n",
       "      <th>Total Volume</th>\n",
       "      <th>4046</th>\n",
       "      <th>4225</th>\n",
       "      <th>4770</th>\n",
       "      <th>Total Bags</th>\n",
       "      <th>Small Bags</th>\n",
       "      <th>Large Bags</th>\n",
       "      <th>XLarge Bags</th>\n",
       "      <th>type</th>\n",
       "      <th>year</th>\n",
       "      <th>region</th>\n",
       "    </tr>\n",
       "  </thead>\n",
       "  <tbody>\n",
       "    <tr>\n",
       "      <th>0</th>\n",
       "      <td>2015-12-27</td>\n",
       "      <td>1.33</td>\n",
       "      <td>64236.62</td>\n",
       "      <td>1036.74</td>\n",
       "      <td>54454.85</td>\n",
       "      <td>48.16</td>\n",
       "      <td>8696.87</td>\n",
       "      <td>8603.62</td>\n",
       "      <td>93.25</td>\n",
       "      <td>0.0</td>\n",
       "      <td>conventional</td>\n",
       "      <td>2015</td>\n",
       "      <td>Albany</td>\n",
       "    </tr>\n",
       "    <tr>\n",
       "      <th>1</th>\n",
       "      <td>2015-12-20</td>\n",
       "      <td>1.35</td>\n",
       "      <td>54876.98</td>\n",
       "      <td>674.28</td>\n",
       "      <td>44638.81</td>\n",
       "      <td>58.33</td>\n",
       "      <td>9505.56</td>\n",
       "      <td>9408.07</td>\n",
       "      <td>97.49</td>\n",
       "      <td>0.0</td>\n",
       "      <td>conventional</td>\n",
       "      <td>2015</td>\n",
       "      <td>Albany</td>\n",
       "    </tr>\n",
       "    <tr>\n",
       "      <th>2</th>\n",
       "      <td>2015-12-13</td>\n",
       "      <td>0.93</td>\n",
       "      <td>118220.22</td>\n",
       "      <td>794.70</td>\n",
       "      <td>109149.67</td>\n",
       "      <td>130.50</td>\n",
       "      <td>8145.35</td>\n",
       "      <td>8042.21</td>\n",
       "      <td>103.14</td>\n",
       "      <td>0.0</td>\n",
       "      <td>conventional</td>\n",
       "      <td>2015</td>\n",
       "      <td>Albany</td>\n",
       "    </tr>\n",
       "    <tr>\n",
       "      <th>3</th>\n",
       "      <td>2015-12-06</td>\n",
       "      <td>1.08</td>\n",
       "      <td>78992.15</td>\n",
       "      <td>1132.00</td>\n",
       "      <td>71976.41</td>\n",
       "      <td>72.58</td>\n",
       "      <td>5811.16</td>\n",
       "      <td>5677.40</td>\n",
       "      <td>133.76</td>\n",
       "      <td>0.0</td>\n",
       "      <td>conventional</td>\n",
       "      <td>2015</td>\n",
       "      <td>Albany</td>\n",
       "    </tr>\n",
       "    <tr>\n",
       "      <th>4</th>\n",
       "      <td>2015-11-29</td>\n",
       "      <td>1.28</td>\n",
       "      <td>51039.60</td>\n",
       "      <td>941.48</td>\n",
       "      <td>43838.39</td>\n",
       "      <td>75.78</td>\n",
       "      <td>6183.95</td>\n",
       "      <td>5986.26</td>\n",
       "      <td>197.69</td>\n",
       "      <td>0.0</td>\n",
       "      <td>conventional</td>\n",
       "      <td>2015</td>\n",
       "      <td>Albany</td>\n",
       "    </tr>\n",
       "  </tbody>\n",
       "</table>\n",
       "</div>"
      ],
      "text/plain": [
       "         Date  AveragePrice  Total Volume     4046       4225    4770  \\\n",
       "0  2015-12-27          1.33      64236.62  1036.74   54454.85   48.16   \n",
       "1  2015-12-20          1.35      54876.98   674.28   44638.81   58.33   \n",
       "2  2015-12-13          0.93     118220.22   794.70  109149.67  130.50   \n",
       "3  2015-12-06          1.08      78992.15  1132.00   71976.41   72.58   \n",
       "4  2015-11-29          1.28      51039.60   941.48   43838.39   75.78   \n",
       "\n",
       "   Total Bags  Small Bags  Large Bags  XLarge Bags          type  year  region  \n",
       "0     8696.87     8603.62       93.25          0.0  conventional  2015  Albany  \n",
       "1     9505.56     9408.07       97.49          0.0  conventional  2015  Albany  \n",
       "2     8145.35     8042.21      103.14          0.0  conventional  2015  Albany  \n",
       "3     5811.16     5677.40      133.76          0.0  conventional  2015  Albany  \n",
       "4     6183.95     5986.26      197.69          0.0  conventional  2015  Albany  "
      ]
     },
     "execution_count": 5,
     "metadata": {},
     "output_type": "execute_result"
    }
   ],
   "source": [
    "df.head()"
   ]
  },
  {
   "cell_type": "code",
   "execution_count": 6,
   "id": "19b86f96",
   "metadata": {},
   "outputs": [
    {
     "data": {
      "text/html": [
       "<div>\n",
       "<style scoped>\n",
       "    .dataframe tbody tr th:only-of-type {\n",
       "        vertical-align: middle;\n",
       "    }\n",
       "\n",
       "    .dataframe tbody tr th {\n",
       "        vertical-align: top;\n",
       "    }\n",
       "\n",
       "    .dataframe thead th {\n",
       "        text-align: right;\n",
       "    }\n",
       "</style>\n",
       "<table border=\"1\" class=\"dataframe\">\n",
       "  <thead>\n",
       "    <tr style=\"text-align: right;\">\n",
       "      <th></th>\n",
       "      <th>Date</th>\n",
       "      <th>AveragePrice</th>\n",
       "      <th>Total Volume</th>\n",
       "      <th>4046</th>\n",
       "      <th>4225</th>\n",
       "      <th>4770</th>\n",
       "      <th>Total Bags</th>\n",
       "      <th>Small Bags</th>\n",
       "      <th>Large Bags</th>\n",
       "      <th>XLarge Bags</th>\n",
       "      <th>type</th>\n",
       "      <th>year</th>\n",
       "      <th>region</th>\n",
       "    </tr>\n",
       "  </thead>\n",
       "  <tbody>\n",
       "    <tr>\n",
       "      <th>18244</th>\n",
       "      <td>2018-02-04</td>\n",
       "      <td>1.63</td>\n",
       "      <td>17074.83</td>\n",
       "      <td>2046.96</td>\n",
       "      <td>1529.20</td>\n",
       "      <td>0.00</td>\n",
       "      <td>13498.67</td>\n",
       "      <td>13066.82</td>\n",
       "      <td>431.85</td>\n",
       "      <td>0.0</td>\n",
       "      <td>organic</td>\n",
       "      <td>2018</td>\n",
       "      <td>WestTexNewMexico</td>\n",
       "    </tr>\n",
       "    <tr>\n",
       "      <th>18245</th>\n",
       "      <td>2018-01-28</td>\n",
       "      <td>1.71</td>\n",
       "      <td>13888.04</td>\n",
       "      <td>1191.70</td>\n",
       "      <td>3431.50</td>\n",
       "      <td>0.00</td>\n",
       "      <td>9264.84</td>\n",
       "      <td>8940.04</td>\n",
       "      <td>324.80</td>\n",
       "      <td>0.0</td>\n",
       "      <td>organic</td>\n",
       "      <td>2018</td>\n",
       "      <td>WestTexNewMexico</td>\n",
       "    </tr>\n",
       "    <tr>\n",
       "      <th>18246</th>\n",
       "      <td>2018-01-21</td>\n",
       "      <td>1.87</td>\n",
       "      <td>13766.76</td>\n",
       "      <td>1191.92</td>\n",
       "      <td>2452.79</td>\n",
       "      <td>727.94</td>\n",
       "      <td>9394.11</td>\n",
       "      <td>9351.80</td>\n",
       "      <td>42.31</td>\n",
       "      <td>0.0</td>\n",
       "      <td>organic</td>\n",
       "      <td>2018</td>\n",
       "      <td>WestTexNewMexico</td>\n",
       "    </tr>\n",
       "    <tr>\n",
       "      <th>18247</th>\n",
       "      <td>2018-01-14</td>\n",
       "      <td>1.93</td>\n",
       "      <td>16205.22</td>\n",
       "      <td>1527.63</td>\n",
       "      <td>2981.04</td>\n",
       "      <td>727.01</td>\n",
       "      <td>10969.54</td>\n",
       "      <td>10919.54</td>\n",
       "      <td>50.00</td>\n",
       "      <td>0.0</td>\n",
       "      <td>organic</td>\n",
       "      <td>2018</td>\n",
       "      <td>WestTexNewMexico</td>\n",
       "    </tr>\n",
       "    <tr>\n",
       "      <th>18248</th>\n",
       "      <td>2018-01-07</td>\n",
       "      <td>1.62</td>\n",
       "      <td>17489.58</td>\n",
       "      <td>2894.77</td>\n",
       "      <td>2356.13</td>\n",
       "      <td>224.53</td>\n",
       "      <td>12014.15</td>\n",
       "      <td>11988.14</td>\n",
       "      <td>26.01</td>\n",
       "      <td>0.0</td>\n",
       "      <td>organic</td>\n",
       "      <td>2018</td>\n",
       "      <td>WestTexNewMexico</td>\n",
       "    </tr>\n",
       "  </tbody>\n",
       "</table>\n",
       "</div>"
      ],
      "text/plain": [
       "             Date  AveragePrice  Total Volume     4046     4225    4770  \\\n",
       "18244  2018-02-04          1.63      17074.83  2046.96  1529.20    0.00   \n",
       "18245  2018-01-28          1.71      13888.04  1191.70  3431.50    0.00   \n",
       "18246  2018-01-21          1.87      13766.76  1191.92  2452.79  727.94   \n",
       "18247  2018-01-14          1.93      16205.22  1527.63  2981.04  727.01   \n",
       "18248  2018-01-07          1.62      17489.58  2894.77  2356.13  224.53   \n",
       "\n",
       "       Total Bags  Small Bags  Large Bags  XLarge Bags     type  year  \\\n",
       "18244    13498.67    13066.82      431.85          0.0  organic  2018   \n",
       "18245     9264.84     8940.04      324.80          0.0  organic  2018   \n",
       "18246     9394.11     9351.80       42.31          0.0  organic  2018   \n",
       "18247    10969.54    10919.54       50.00          0.0  organic  2018   \n",
       "18248    12014.15    11988.14       26.01          0.0  organic  2018   \n",
       "\n",
       "                 region  \n",
       "18244  WestTexNewMexico  \n",
       "18245  WestTexNewMexico  \n",
       "18246  WestTexNewMexico  \n",
       "18247  WestTexNewMexico  \n",
       "18248  WestTexNewMexico  "
      ]
     },
     "execution_count": 6,
     "metadata": {},
     "output_type": "execute_result"
    }
   ],
   "source": [
    "df.tail()"
   ]
  },
  {
   "cell_type": "code",
   "execution_count": 7,
   "id": "edaccc8f",
   "metadata": {},
   "outputs": [
    {
     "data": {
      "text/plain": [
       "(18249, 13)"
      ]
     },
     "execution_count": 7,
     "metadata": {},
     "output_type": "execute_result"
    }
   ],
   "source": [
    "df.shape"
   ]
  },
  {
   "cell_type": "code",
   "execution_count": 8,
   "id": "bdcd4ec2",
   "metadata": {},
   "outputs": [
    {
     "data": {
      "text/plain": [
       "Date             object\n",
       "AveragePrice    float64\n",
       "Total Volume    float64\n",
       "4046            float64\n",
       "4225            float64\n",
       "4770            float64\n",
       "Total Bags      float64\n",
       "Small Bags      float64\n",
       "Large Bags      float64\n",
       "XLarge Bags     float64\n",
       "type             object\n",
       "year              int64\n",
       "region           object\n",
       "dtype: object"
      ]
     },
     "execution_count": 8,
     "metadata": {},
     "output_type": "execute_result"
    }
   ],
   "source": [
    "df.dtypes"
   ]
  },
  {
   "cell_type": "code",
   "execution_count": 9,
   "id": "0628d442",
   "metadata": {},
   "outputs": [
    {
     "data": {
      "text/plain": [
       "Index(['Date', 'AveragePrice', 'Total Volume', '4046', '4225', '4770',\n",
       "       'Total Bags', 'Small Bags', 'Large Bags', 'XLarge Bags', 'type', 'year',\n",
       "       'region'],\n",
       "      dtype='object')"
      ]
     },
     "execution_count": 9,
     "metadata": {},
     "output_type": "execute_result"
    }
   ],
   "source": [
    "df.columns"
   ]
  },
  {
   "cell_type": "markdown",
   "id": "35560017",
   "metadata": {},
   "source": [
    "# Checking for null / values missing"
   ]
  },
  {
   "cell_type": "code",
   "execution_count": 10,
   "id": "df64fb12",
   "metadata": {},
   "outputs": [
    {
     "data": {
      "text/plain": [
       "Date            0\n",
       "AveragePrice    0\n",
       "Total Volume    0\n",
       "4046            0\n",
       "4225            0\n",
       "4770            0\n",
       "Total Bags      0\n",
       "Small Bags      0\n",
       "Large Bags      0\n",
       "XLarge Bags     0\n",
       "type            0\n",
       "year            0\n",
       "region          0\n",
       "dtype: int64"
      ]
     },
     "execution_count": 10,
     "metadata": {},
     "output_type": "execute_result"
    }
   ],
   "source": [
    "df.isnull().sum()"
   ]
  },
  {
   "cell_type": "markdown",
   "id": "186b1bbf",
   "metadata": {},
   "source": [
    " There are no null values"
   ]
  },
  {
   "cell_type": "markdown",
   "id": "2284e29b",
   "metadata": {},
   "source": [
    "# Statistical Summary"
   ]
  },
  {
   "cell_type": "code",
   "execution_count": 11,
   "id": "241b77a6",
   "metadata": {},
   "outputs": [
    {
     "name": "stdout",
     "output_type": "stream",
     "text": [
      "<class 'pandas.core.frame.DataFrame'>\n",
      "RangeIndex: 18249 entries, 0 to 18248\n",
      "Data columns (total 13 columns):\n",
      " #   Column        Non-Null Count  Dtype  \n",
      "---  ------        --------------  -----  \n",
      " 0   Date          18249 non-null  object \n",
      " 1   AveragePrice  18249 non-null  float64\n",
      " 2   Total Volume  18249 non-null  float64\n",
      " 3   4046          18249 non-null  float64\n",
      " 4   4225          18249 non-null  float64\n",
      " 5   4770          18249 non-null  float64\n",
      " 6   Total Bags    18249 non-null  float64\n",
      " 7   Small Bags    18249 non-null  float64\n",
      " 8   Large Bags    18249 non-null  float64\n",
      " 9   XLarge Bags   18249 non-null  float64\n",
      " 10  type          18249 non-null  object \n",
      " 11  year          18249 non-null  int64  \n",
      " 12  region        18249 non-null  object \n",
      "dtypes: float64(9), int64(1), object(3)\n",
      "memory usage: 1.8+ MB\n"
     ]
    }
   ],
   "source": [
    "df.info()"
   ]
  },
  {
   "cell_type": "code",
   "execution_count": 12,
   "id": "db5300db",
   "metadata": {},
   "outputs": [
    {
     "data": {
      "text/html": [
       "<div>\n",
       "<style scoped>\n",
       "    .dataframe tbody tr th:only-of-type {\n",
       "        vertical-align: middle;\n",
       "    }\n",
       "\n",
       "    .dataframe tbody tr th {\n",
       "        vertical-align: top;\n",
       "    }\n",
       "\n",
       "    .dataframe thead th {\n",
       "        text-align: right;\n",
       "    }\n",
       "</style>\n",
       "<table border=\"1\" class=\"dataframe\">\n",
       "  <thead>\n",
       "    <tr style=\"text-align: right;\">\n",
       "      <th></th>\n",
       "      <th>AveragePrice</th>\n",
       "      <th>Total Volume</th>\n",
       "      <th>4046</th>\n",
       "      <th>4225</th>\n",
       "      <th>4770</th>\n",
       "      <th>Total Bags</th>\n",
       "      <th>Small Bags</th>\n",
       "      <th>Large Bags</th>\n",
       "      <th>XLarge Bags</th>\n",
       "      <th>year</th>\n",
       "    </tr>\n",
       "  </thead>\n",
       "  <tbody>\n",
       "    <tr>\n",
       "      <th>count</th>\n",
       "      <td>18249.000000</td>\n",
       "      <td>1.824900e+04</td>\n",
       "      <td>1.824900e+04</td>\n",
       "      <td>1.824900e+04</td>\n",
       "      <td>1.824900e+04</td>\n",
       "      <td>1.824900e+04</td>\n",
       "      <td>1.824900e+04</td>\n",
       "      <td>1.824900e+04</td>\n",
       "      <td>18249.000000</td>\n",
       "      <td>18249.000000</td>\n",
       "    </tr>\n",
       "    <tr>\n",
       "      <th>mean</th>\n",
       "      <td>1.405978</td>\n",
       "      <td>8.506440e+05</td>\n",
       "      <td>2.930084e+05</td>\n",
       "      <td>2.951546e+05</td>\n",
       "      <td>2.283974e+04</td>\n",
       "      <td>2.396392e+05</td>\n",
       "      <td>1.821947e+05</td>\n",
       "      <td>5.433809e+04</td>\n",
       "      <td>3106.426507</td>\n",
       "      <td>2016.147899</td>\n",
       "    </tr>\n",
       "    <tr>\n",
       "      <th>std</th>\n",
       "      <td>0.402677</td>\n",
       "      <td>3.453545e+06</td>\n",
       "      <td>1.264989e+06</td>\n",
       "      <td>1.204120e+06</td>\n",
       "      <td>1.074641e+05</td>\n",
       "      <td>9.862424e+05</td>\n",
       "      <td>7.461785e+05</td>\n",
       "      <td>2.439660e+05</td>\n",
       "      <td>17692.894652</td>\n",
       "      <td>0.939938</td>\n",
       "    </tr>\n",
       "    <tr>\n",
       "      <th>min</th>\n",
       "      <td>0.440000</td>\n",
       "      <td>8.456000e+01</td>\n",
       "      <td>0.000000e+00</td>\n",
       "      <td>0.000000e+00</td>\n",
       "      <td>0.000000e+00</td>\n",
       "      <td>0.000000e+00</td>\n",
       "      <td>0.000000e+00</td>\n",
       "      <td>0.000000e+00</td>\n",
       "      <td>0.000000</td>\n",
       "      <td>2015.000000</td>\n",
       "    </tr>\n",
       "    <tr>\n",
       "      <th>25%</th>\n",
       "      <td>1.100000</td>\n",
       "      <td>1.083858e+04</td>\n",
       "      <td>8.540700e+02</td>\n",
       "      <td>3.008780e+03</td>\n",
       "      <td>0.000000e+00</td>\n",
       "      <td>5.088640e+03</td>\n",
       "      <td>2.849420e+03</td>\n",
       "      <td>1.274700e+02</td>\n",
       "      <td>0.000000</td>\n",
       "      <td>2015.000000</td>\n",
       "    </tr>\n",
       "    <tr>\n",
       "      <th>50%</th>\n",
       "      <td>1.370000</td>\n",
       "      <td>1.073768e+05</td>\n",
       "      <td>8.645300e+03</td>\n",
       "      <td>2.906102e+04</td>\n",
       "      <td>1.849900e+02</td>\n",
       "      <td>3.974383e+04</td>\n",
       "      <td>2.636282e+04</td>\n",
       "      <td>2.647710e+03</td>\n",
       "      <td>0.000000</td>\n",
       "      <td>2016.000000</td>\n",
       "    </tr>\n",
       "    <tr>\n",
       "      <th>75%</th>\n",
       "      <td>1.660000</td>\n",
       "      <td>4.329623e+05</td>\n",
       "      <td>1.110202e+05</td>\n",
       "      <td>1.502069e+05</td>\n",
       "      <td>6.243420e+03</td>\n",
       "      <td>1.107834e+05</td>\n",
       "      <td>8.333767e+04</td>\n",
       "      <td>2.202925e+04</td>\n",
       "      <td>132.500000</td>\n",
       "      <td>2017.000000</td>\n",
       "    </tr>\n",
       "    <tr>\n",
       "      <th>max</th>\n",
       "      <td>3.250000</td>\n",
       "      <td>6.250565e+07</td>\n",
       "      <td>2.274362e+07</td>\n",
       "      <td>2.047057e+07</td>\n",
       "      <td>2.546439e+06</td>\n",
       "      <td>1.937313e+07</td>\n",
       "      <td>1.338459e+07</td>\n",
       "      <td>5.719097e+06</td>\n",
       "      <td>551693.650000</td>\n",
       "      <td>2018.000000</td>\n",
       "    </tr>\n",
       "  </tbody>\n",
       "</table>\n",
       "</div>"
      ],
      "text/plain": [
       "       AveragePrice  Total Volume          4046          4225          4770  \\\n",
       "count  18249.000000  1.824900e+04  1.824900e+04  1.824900e+04  1.824900e+04   \n",
       "mean       1.405978  8.506440e+05  2.930084e+05  2.951546e+05  2.283974e+04   \n",
       "std        0.402677  3.453545e+06  1.264989e+06  1.204120e+06  1.074641e+05   \n",
       "min        0.440000  8.456000e+01  0.000000e+00  0.000000e+00  0.000000e+00   \n",
       "25%        1.100000  1.083858e+04  8.540700e+02  3.008780e+03  0.000000e+00   \n",
       "50%        1.370000  1.073768e+05  8.645300e+03  2.906102e+04  1.849900e+02   \n",
       "75%        1.660000  4.329623e+05  1.110202e+05  1.502069e+05  6.243420e+03   \n",
       "max        3.250000  6.250565e+07  2.274362e+07  2.047057e+07  2.546439e+06   \n",
       "\n",
       "         Total Bags    Small Bags    Large Bags    XLarge Bags          year  \n",
       "count  1.824900e+04  1.824900e+04  1.824900e+04   18249.000000  18249.000000  \n",
       "mean   2.396392e+05  1.821947e+05  5.433809e+04    3106.426507   2016.147899  \n",
       "std    9.862424e+05  7.461785e+05  2.439660e+05   17692.894652      0.939938  \n",
       "min    0.000000e+00  0.000000e+00  0.000000e+00       0.000000   2015.000000  \n",
       "25%    5.088640e+03  2.849420e+03  1.274700e+02       0.000000   2015.000000  \n",
       "50%    3.974383e+04  2.636282e+04  2.647710e+03       0.000000   2016.000000  \n",
       "75%    1.107834e+05  8.333767e+04  2.202925e+04     132.500000   2017.000000  \n",
       "max    1.937313e+07  1.338459e+07  5.719097e+06  551693.650000   2018.000000  "
      ]
     },
     "execution_count": 12,
     "metadata": {},
     "output_type": "execute_result"
    }
   ],
   "source": [
    "df.describe()"
   ]
  },
  {
   "cell_type": "markdown",
   "id": "9f683b4e",
   "metadata": {},
   "source": [
    " Large Bags and XLarge Bags may contain outliers since there is a huge difference between 75% and max and their respective means and 50% also are significantly different.\n",
    "\n",
    "A higher std than mean in Total Bags, Small Bags and, XLarge Bags columns indicates skewness."
   ]
  },
  {
   "cell_type": "markdown",
   "id": "24fb2142",
   "metadata": {},
   "source": [
    "# Checking for unique elements"
   ]
  },
  {
   "cell_type": "code",
   "execution_count": 13,
   "id": "5627477b",
   "metadata": {},
   "outputs": [
    {
     "data": {
      "text/plain": [
       "Date              169\n",
       "AveragePrice      259\n",
       "Total Volume    18237\n",
       "4046            17702\n",
       "4225            18103\n",
       "4770            12071\n",
       "Total Bags      18097\n",
       "Small Bags      17321\n",
       "Large Bags      15082\n",
       "XLarge Bags      5588\n",
       "type                2\n",
       "year                4\n",
       "region             54\n",
       "dtype: int64"
      ]
     },
     "execution_count": 13,
     "metadata": {},
     "output_type": "execute_result"
    }
   ],
   "source": [
    "df.nunique()"
   ]
  },
  {
   "cell_type": "markdown",
   "id": "c09b3ca0",
   "metadata": {},
   "source": [
    " type has 2 unique categories\n",
    "\n",
    "region has 54 unique categories\n",
    "\n",
    "year has 4 discrete values"
   ]
  },
  {
   "cell_type": "markdown",
   "id": "53723b68",
   "metadata": {},
   "source": [
    "# This is a Regression Problem since the Target variable / Label column (\"AveragePrice\") has Continuous type of Data.\n",
    "Interpreting Relationship between Dependent and Independent Variables\n"
   ]
  },
  {
   "cell_type": "markdown",
   "id": "78f7be6c",
   "metadata": {},
   "source": [
    "## Analsying the Target Variable"
   ]
  },
  {
   "cell_type": "code",
   "execution_count": 14,
   "id": "715ec378",
   "metadata": {},
   "outputs": [
    {
     "data": {
      "text/plain": [
       "<AxesSubplot:xlabel='AveragePrice', ylabel='Density'>"
      ]
     },
     "execution_count": 14,
     "metadata": {},
     "output_type": "execute_result"
    },
    {
     "data": {
      "image/png": "[encoded data removed]",
      "text/plain": [
       "<Figure size 432x288 with 1 Axes>"
      ]
     },
     "metadata": {
      "needs_background": "light"
     },
     "output_type": "display_data"
    }
   ],
   "source": [
    "sns.distplot(df.AveragePrice)"
   ]
  },
  {
   "cell_type": "markdown",
   "id": "bcbcd6c7",
   "metadata": {},
   "source": [
    " AveragePrice data forms a continuous distribution with mean of 1.405978"
   ]
  },
  {
   "cell_type": "code",
   "execution_count": 15,
   "id": "90530a57",
   "metadata": {},
   "outputs": [
    {
     "data": {
      "text/plain": [
       "0.5803027378878419"
      ]
     },
     "execution_count": 15,
     "metadata": {},
     "output_type": "execute_result"
    }
   ],
   "source": [
    "df.AveragePrice.skew()"
   ]
  },
  {
   "cell_type": "markdown",
   "id": "6f9329ed",
   "metadata": {},
   "source": [
    "# Analysing Feature Columns"
   ]
  },
  {
   "cell_type": "code",
   "execution_count": 16,
   "id": "f7faf857",
   "metadata": {},
   "outputs": [
    {
     "data": {
      "text/plain": [
       "array(['conventional', 'organic'], dtype=object)"
      ]
     },
     "execution_count": 16,
     "metadata": {},
     "output_type": "execute_result"
    }
   ],
   "source": [
    "df.type.unique()"
   ]
  },
  {
   "cell_type": "code",
   "execution_count": 17,
   "id": "a9f9471b",
   "metadata": {},
   "outputs": [
    {
     "data": {
      "text/plain": [
       "conventional    9126\n",
       "organic         9123\n",
       "Name: type, dtype: int64"
      ]
     },
     "execution_count": 17,
     "metadata": {},
     "output_type": "execute_result"
    }
   ],
   "source": [
    "df.type.value_counts()"
   ]
  },
  {
   "cell_type": "code",
   "execution_count": 18,
   "id": "6393d4f0",
   "metadata": {},
   "outputs": [
    {
     "data": {
      "text/plain": [
       "<AxesSubplot:xlabel='type', ylabel='count'>"
      ]
     },
     "execution_count": 18,
     "metadata": {},
     "output_type": "execute_result"
    },
    {
     "data": {
      "image/png": "[encoded data removed]",
      "text/plain": [
       "<Figure size 432x288 with 1 Axes>"
      ]
     },
     "metadata": {
      "needs_background": "light"
     },
     "output_type": "display_data"
    }
   ],
   "source": [
    "sns.countplot(df.type)"
   ]
  },
  {
   "cell_type": "markdown",
   "id": "80bd27c0",
   "metadata": {},
   "source": [
    " Almost equal numbers of conventional and organic avocados were produced."
   ]
  },
  {
   "cell_type": "code",
   "execution_count": 19,
   "id": "f0b749d9",
   "metadata": {},
   "outputs": [
    {
     "data": {
      "text/plain": [
       "array([2015, 2016, 2017, 2018], dtype=int64)"
      ]
     },
     "execution_count": 19,
     "metadata": {},
     "output_type": "execute_result"
    }
   ],
   "source": [
    "df.year.unique()"
   ]
  },
  {
   "cell_type": "code",
   "execution_count": 20,
   "id": "3849b0c8",
   "metadata": {},
   "outputs": [
    {
     "data": {
      "text/plain": [
       "<AxesSubplot:xlabel='year', ylabel='count'>"
      ]
     },
     "execution_count": 20,
     "metadata": {},
     "output_type": "execute_result"
    },
    {
     "data": {
      "image/png": "[encoded data removed]",
      "text/plain": [
       "<Figure size 432x288 with 1 Axes>"
      ]
     },
     "metadata": {
      "needs_background": "light"
     },
     "output_type": "display_data"
    }
   ],
   "source": [
    "sns.countplot(df.year)"
   ]
  },
  {
   "cell_type": "markdown",
   "id": "ec86b2bd",
   "metadata": {},
   "source": [
    " for 2018 there is very small amount of data available"
   ]
  },
  {
   "cell_type": "code",
   "execution_count": 21,
   "id": "9290d79f",
   "metadata": {},
   "outputs": [
    {
     "data": {
      "text/plain": [
       "54"
      ]
     },
     "execution_count": 21,
     "metadata": {},
     "output_type": "execute_result"
    }
   ],
   "source": [
    "df.region.nunique()"
   ]
  },
  {
   "cell_type": "code",
   "execution_count": 22,
   "id": "87dbf717",
   "metadata": {},
   "outputs": [
    {
     "data": {
      "text/plain": [
       "Albany                 338\n",
       "Sacramento             338\n",
       "Northeast              338\n",
       "NorthernNewEngland     338\n",
       "Orlando                338\n",
       "Philadelphia           338\n",
       "PhoenixTucson          338\n",
       "Pittsburgh             338\n",
       "Plains                 338\n",
       "Portland               338\n",
       "RaleighGreensboro      338\n",
       "RichmondNorfolk        338\n",
       "Roanoke                338\n",
       "SanDiego               338\n",
       "Atlanta                338\n",
       "SanFrancisco           338\n",
       "Seattle                338\n",
       "SouthCarolina          338\n",
       "SouthCentral           338\n",
       "Southeast              338\n",
       "Spokane                338\n",
       "StLouis                338\n",
       "Syracuse               338\n",
       "Tampa                  338\n",
       "TotalUS                338\n",
       "West                   338\n",
       "NewYork                338\n",
       "NewOrleansMobile       338\n",
       "Nashville              338\n",
       "Midsouth               338\n",
       "BaltimoreWashington    338\n",
       "Boise                  338\n",
       "Boston                 338\n",
       "BuffaloRochester       338\n",
       "California             338\n",
       "Charlotte              338\n",
       "Chicago                338\n",
       "CincinnatiDayton       338\n",
       "Columbus               338\n",
       "DallasFtWorth          338\n",
       "Denver                 338\n",
       "Detroit                338\n",
       "GrandRapids            338\n",
       "GreatLakes             338\n",
       "HarrisburgScranton     338\n",
       "HartfordSpringfield    338\n",
       "Houston                338\n",
       "Indianapolis           338\n",
       "Jacksonville           338\n",
       "LasVegas               338\n",
       "LosAngeles             338\n",
       "Louisville             338\n",
       "MiamiFtLauderdale      338\n",
       "WestTexNewMexico       335\n",
       "Name: region, dtype: int64"
      ]
     },
     "execution_count": 22,
     "metadata": {},
     "output_type": "execute_result"
    }
   ],
   "source": [
    "df.region.value_counts()"
   ]
  },
  {
   "cell_type": "code",
   "execution_count": 23,
   "id": "c4876f92",
   "metadata": {},
   "outputs": [
    {
     "data": {
      "text/plain": [
       "Date              169\n",
       "AveragePrice      259\n",
       "Total Volume    18237\n",
       "4046            17702\n",
       "4225            18103\n",
       "4770            12071\n",
       "Total Bags      18097\n",
       "Small Bags      17321\n",
       "Large Bags      15082\n",
       "XLarge Bags      5588\n",
       "type                2\n",
       "year                4\n",
       "region             54\n",
       "dtype: int64"
      ]
     },
     "execution_count": 23,
     "metadata": {},
     "output_type": "execute_result"
    }
   ],
   "source": [
    "df.nunique()"
   ]
  },
  {
   "cell_type": "code",
   "execution_count": 24,
   "id": "85226a82",
   "metadata": {},
   "outputs": [],
   "source": [
    "dftest = df.head(300)"
   ]
  },
  {
   "cell_type": "code",
   "execution_count": 25,
   "id": "9d3e1d0d",
   "metadata": {},
   "outputs": [
    {
     "data": {
      "image/png": "[encoded data removed]",
      "text/plain": [
       "<Figure size 1440x1800 with 7 Axes>"
      ]
     },
     "metadata": {},
     "output_type": "display_data"
    }
   ],
   "source": [
    "plt.figure(figsize=(20,25),facecolor='white')\n",
    "plotnum=1\n",
    "for col in dftest[['Total Volume','4046','4225','Total Bags','Small Bags','Large Bags','XLarge Bags']]:\n",
    "    if plotnum<=10:\n",
    "        plt.subplot(4,4,plotnum)\n",
    "        sns.distplot(dftest[col])\n",
    "        plt.xlabel(col,fontsize=20)\n",
    "    plotnum+=1\n",
    "plt.show()"
   ]
  },
  {
   "cell_type": "markdown",
   "id": "a43d476f",
   "metadata": {},
   "source": [
    " Total Volume, 4046, 4225 show a bimodal data distribution\n",
    "\n",
    "Total Bags, Large Bags,Small Bags and, XLarge Bags columns have skewed data distribution"
   ]
  },
  {
   "cell_type": "code",
   "execution_count": 26,
   "id": "a1c4f70c",
   "metadata": {},
   "outputs": [
    {
     "data": {
      "image/png": "[encoded data removed]",
      "text/plain": [
       "<Figure size 1440x1800 with 1 Axes>"
      ]
     },
     "metadata": {},
     "output_type": "display_data"
    }
   ],
   "source": [
    "plt.figure(figsize=(20,25),facecolor='white')\n",
    "plotnum=1\n",
    "y = df['AveragePrice']\n",
    "X = df[['year']]\n",
    "for col in X:\n",
    "    if plotnum<=23:\n",
    "        plt.subplot(5,5,plotnum)\n",
    "        sns.barplot(X[col],y)\n",
    "        plt.xlabel(col,fontsize=20)\n",
    "        plt.ylabel('AveragePrice',fontsize=20)\n",
    "    plotnum+=1\n",
    "plt.tight_layout()"
   ]
  },
  {
   "cell_type": "markdown",
   "id": "f5543cbc",
   "metadata": {},
   "source": [
    " It is observed that there was a spike in average price in the year 2017\n",
    "\n",
    "Grouping the data date-wise to better understand the relationship between 'Date' and 'AveragePrice'"
   ]
  },
  {
   "cell_type": "code",
   "execution_count": 27,
   "id": "d86f4c66",
   "metadata": {},
   "outputs": [
    {
     "data": {
      "text/plain": [
       "Text(0.5, 1.0, 'Average Price Trend')"
      ]
     },
     "execution_count": 27,
     "metadata": {},
     "output_type": "execute_result"
    },
    {
     "data": {
      "image/png": "[encoded data removed]",
      "text/plain": [
       "<Figure size 720x864 with 1 Axes>"
      ]
     },
     "metadata": {
      "needs_background": "light"
     },
     "output_type": "display_data"
    }
   ],
   "source": [
    "plt.figure(figsize=(10,12))\n",
    "df.groupby('Date').mean()['AveragePrice'].plot()\n",
    "plt.title('Average Price Trend')"
   ]
  },
  {
   "cell_type": "markdown",
   "id": "2a056f5d",
   "metadata": {},
   "source": [
    " It is observed from the graph above that the average price declined steeply from June of 2015 to June of 2016. The Average price hit the highest point in 2017"
   ]
  },
  {
   "cell_type": "code",
   "execution_count": 28,
   "id": "2405f7f1",
   "metadata": {},
   "outputs": [
    {
     "data": {
      "text/plain": [
       "<AxesSubplot:xlabel='type', ylabel='AveragePrice'>"
      ]
     },
     "execution_count": 28,
     "metadata": {},
     "output_type": "execute_result"
    },
    {
     "data": {
      "image/png": "[encoded data removed]",
      "text/plain": [
       "<Figure size 432x288 with 1 Axes>"
      ]
     },
     "metadata": {
      "needs_background": "light"
     },
     "output_type": "display_data"
    }
   ],
   "source": [
    "sns.barplot(x = 'type', y = 'AveragePrice', data = df)"
   ]
  },
  {
   "cell_type": "markdown",
   "id": "22f0a9b6",
   "metadata": {},
   "source": [
    " Average price of 'Organic' produce is higher than that of 'conventional' produce."
   ]
  },
  {
   "cell_type": "code",
   "execution_count": 29,
   "id": "ef6db404",
   "metadata": {},
   "outputs": [
    {
     "data": {
      "image/png": "[encoded data removed]",
      "text/plain": [
       "<Figure size 1440x1800 with 3 Axes>"
      ]
     },
     "metadata": {},
     "output_type": "display_data"
    }
   ],
   "source": [
    "plt.figure(figsize=(20,25),facecolor='white')\n",
    "plotnum=1\n",
    "y = df[['4046','4225','4770']]\n",
    "X = df['type']\n",
    "for col in y:\n",
    "    if plotnum<=23:\n",
    "        plt.subplot(5,5,plotnum)\n",
    "        sns.barplot(X,y[col])\n",
    "        plt.xlabel('type',fontsize=20)\n",
    "        plt.ylabel(col,fontsize=20)\n",
    "    plotnum+=1\n",
    "plt.tight_layout()"
   ]
  },
  {
   "cell_type": "markdown",
   "id": "5d3996b9",
   "metadata": {},
   "source": [
    " production of conventional type outnumbers that of organic type in the cases of 4046,4225 and 4770, which may also be a contributing factor to the higher average price of organic type"
   ]
  },
  {
   "cell_type": "code",
   "execution_count": 30,
   "id": "4f2790a0",
   "metadata": {},
   "outputs": [
    {
     "data": {
      "image/png": "[encoded data removed]",
      "text/plain": [
       "<Figure size 1440x1800 with 3 Axes>"
      ]
     },
     "metadata": {},
     "output_type": "display_data"
    }
   ],
   "source": [
    "plt.figure(figsize=(20,25),facecolor='white')\n",
    "plotnum=1\n",
    "y = df[['4046','4225','4770']]\n",
    "X = df['year']\n",
    "for col in y:\n",
    "    if plotnum<=23:\n",
    "        plt.subplot(5,5,plotnum)\n",
    "        sns.barplot(X,y[col])\n",
    "        plt.xlabel('Year',fontsize=20)\n",
    "        plt.ylabel(col,fontsize=20)\n",
    "    plotnum+=1\n",
    "plt.tight_layout()"
   ]
  },
  {
   "cell_type": "markdown",
   "id": "693dcf04",
   "metadata": {},
   "source": [
    "\n",
    "Production of PLU 4046 has grown over the 4 years and is greater than the production of PLU 4225 and PLU 4770, which is least produced."
   ]
  },
  {
   "cell_type": "code",
   "execution_count": 31,
   "id": "9115d279",
   "metadata": {},
   "outputs": [
    {
     "data": {
      "image/png": "[encoded data removed]",
      "text/plain": [
       "<Figure size 1440x1800 with 3 Axes>"
      ]
     },
     "metadata": {},
     "output_type": "display_data"
    }
   ],
   "source": [
    "plt.figure(figsize=(20,25),facecolor='white')\n",
    "plotnum=1\n",
    "y = df[['Small Bags','Large Bags','XLarge Bags']]\n",
    "X = df['year']\n",
    "for col in y:\n",
    "    if plotnum<=23:\n",
    "        plt.subplot(5,5,plotnum)\n",
    "        sns.barplot(X,y[col])\n",
    "        plt.xlabel('Year',fontsize=20)\n",
    "        plt.ylabel(col,fontsize=20)\n",
    "    plotnum+=1\n",
    "plt.tight_layout()"
   ]
  },
  {
   "cell_type": "markdown",
   "id": "4865a31c",
   "metadata": {},
   "source": [
    " Production of all 3 types of bags has grown over the years. However Small Bags are produced far more than Large and Xlarge bags, while XLarge Bags are produced the least."
   ]
  },
  {
   "cell_type": "code",
   "execution_count": 32,
   "id": "6a150308",
   "metadata": {},
   "outputs": [
    {
     "data": {
      "text/html": [
       "<div>\n",
       "<style scoped>\n",
       "    .dataframe tbody tr th:only-of-type {\n",
       "        vertical-align: middle;\n",
       "    }\n",
       "\n",
       "    .dataframe tbody tr th {\n",
       "        vertical-align: top;\n",
       "    }\n",
       "\n",
       "    .dataframe thead th {\n",
       "        text-align: right;\n",
       "    }\n",
       "</style>\n",
       "<table border=\"1\" class=\"dataframe\">\n",
       "  <thead>\n",
       "    <tr style=\"text-align: right;\">\n",
       "      <th></th>\n",
       "      <th>Date</th>\n",
       "      <th>AveragePrice</th>\n",
       "      <th>Total Volume</th>\n",
       "      <th>4046</th>\n",
       "      <th>4225</th>\n",
       "      <th>4770</th>\n",
       "      <th>Total Bags</th>\n",
       "      <th>Small Bags</th>\n",
       "      <th>Large Bags</th>\n",
       "      <th>XLarge Bags</th>\n",
       "      <th>type</th>\n",
       "      <th>year</th>\n",
       "      <th>region</th>\n",
       "    </tr>\n",
       "  </thead>\n",
       "  <tbody>\n",
       "    <tr>\n",
       "      <th>0</th>\n",
       "      <td>2015-12-27</td>\n",
       "      <td>1.33</td>\n",
       "      <td>64236.62</td>\n",
       "      <td>1036.74</td>\n",
       "      <td>54454.85</td>\n",
       "      <td>48.16</td>\n",
       "      <td>8696.87</td>\n",
       "      <td>8603.62</td>\n",
       "      <td>93.25</td>\n",
       "      <td>0.0</td>\n",
       "      <td>conventional</td>\n",
       "      <td>2015</td>\n",
       "      <td>Albany</td>\n",
       "    </tr>\n",
       "    <tr>\n",
       "      <th>1</th>\n",
       "      <td>2015-12-20</td>\n",
       "      <td>1.35</td>\n",
       "      <td>54876.98</td>\n",
       "      <td>674.28</td>\n",
       "      <td>44638.81</td>\n",
       "      <td>58.33</td>\n",
       "      <td>9505.56</td>\n",
       "      <td>9408.07</td>\n",
       "      <td>97.49</td>\n",
       "      <td>0.0</td>\n",
       "      <td>conventional</td>\n",
       "      <td>2015</td>\n",
       "      <td>Albany</td>\n",
       "    </tr>\n",
       "    <tr>\n",
       "      <th>2</th>\n",
       "      <td>2015-12-13</td>\n",
       "      <td>0.93</td>\n",
       "      <td>118220.22</td>\n",
       "      <td>794.70</td>\n",
       "      <td>109149.67</td>\n",
       "      <td>130.50</td>\n",
       "      <td>8145.35</td>\n",
       "      <td>8042.21</td>\n",
       "      <td>103.14</td>\n",
       "      <td>0.0</td>\n",
       "      <td>conventional</td>\n",
       "      <td>2015</td>\n",
       "      <td>Albany</td>\n",
       "    </tr>\n",
       "    <tr>\n",
       "      <th>3</th>\n",
       "      <td>2015-12-06</td>\n",
       "      <td>1.08</td>\n",
       "      <td>78992.15</td>\n",
       "      <td>1132.00</td>\n",
       "      <td>71976.41</td>\n",
       "      <td>72.58</td>\n",
       "      <td>5811.16</td>\n",
       "      <td>5677.40</td>\n",
       "      <td>133.76</td>\n",
       "      <td>0.0</td>\n",
       "      <td>conventional</td>\n",
       "      <td>2015</td>\n",
       "      <td>Albany</td>\n",
       "    </tr>\n",
       "    <tr>\n",
       "      <th>4</th>\n",
       "      <td>2015-11-29</td>\n",
       "      <td>1.28</td>\n",
       "      <td>51039.60</td>\n",
       "      <td>941.48</td>\n",
       "      <td>43838.39</td>\n",
       "      <td>75.78</td>\n",
       "      <td>6183.95</td>\n",
       "      <td>5986.26</td>\n",
       "      <td>197.69</td>\n",
       "      <td>0.0</td>\n",
       "      <td>conventional</td>\n",
       "      <td>2015</td>\n",
       "      <td>Albany</td>\n",
       "    </tr>\n",
       "  </tbody>\n",
       "</table>\n",
       "</div>"
      ],
      "text/plain": [
       "         Date  AveragePrice  Total Volume     4046       4225    4770  \\\n",
       "0  2015-12-27          1.33      64236.62  1036.74   54454.85   48.16   \n",
       "1  2015-12-20          1.35      54876.98   674.28   44638.81   58.33   \n",
       "2  2015-12-13          0.93     118220.22   794.70  109149.67  130.50   \n",
       "3  2015-12-06          1.08      78992.15  1132.00   71976.41   72.58   \n",
       "4  2015-11-29          1.28      51039.60   941.48   43838.39   75.78   \n",
       "\n",
       "   Total Bags  Small Bags  Large Bags  XLarge Bags          type  year  region  \n",
       "0     8696.87     8603.62       93.25          0.0  conventional  2015  Albany  \n",
       "1     9505.56     9408.07       97.49          0.0  conventional  2015  Albany  \n",
       "2     8145.35     8042.21      103.14          0.0  conventional  2015  Albany  \n",
       "3     5811.16     5677.40      133.76          0.0  conventional  2015  Albany  \n",
       "4     6183.95     5986.26      197.69          0.0  conventional  2015  Albany  "
      ]
     },
     "execution_count": 32,
     "metadata": {},
     "output_type": "execute_result"
    }
   ],
   "source": [
    "df.head()"
   ]
  },
  {
   "cell_type": "markdown",
   "id": "79e982d8",
   "metadata": {},
   "source": [
    " From the above dataframe, it can be observed that:\n",
    "Column 'Total Volume' is '4046'+'4046'+'4770'+'Total Bags'. Therefore dropping it as it is a highly dependent Feature. (eg: 4046: 1036.74+ 4225: 54454.85+ 4770: 48.16+ Total Bags: 8696.87 = 64236.629(Total Volume))\n",
    "\n",
    "From the above dataframe, it can be observed that: Column 'Total Bags' is 'Small Bags' + 'Large Bags ' + 'XLarge Bags'. Therefore dropping it as it is a highly dependent Feature. (eg: Small Bags : 8603.62+ Large Bags: 93.25+ XLarge Bags: 0.0 = 8696.87(Total Bags)"
   ]
  },
  {
   "cell_type": "markdown",
   "id": "95838c6c",
   "metadata": {},
   "source": [
    "# Creating 'Day' and 'Month' columns from 'Date' Columnn"
   ]
  },
  {
   "cell_type": "code",
   "execution_count": 33,
   "id": "ebd29025",
   "metadata": {},
   "outputs": [],
   "source": [
    "df['Date']=pd.to_datetime(df['Date']) #creating datetime type dataframe\n",
    "df['Day']=df['Date'].apply(lambda d:d.day) #mapping day values to 'Day' column in main dataframe\n",
    "df['Month']=df['Date'].apply(lambda m:m.month) #mapping month values to 'Month' column in main dataframe"
   ]
  },
  {
   "cell_type": "code",
   "execution_count": 34,
   "id": "d9b9c28f",
   "metadata": {},
   "outputs": [
    {
     "data": {
      "text/html": [
       "<div>\n",
       "<style scoped>\n",
       "    .dataframe tbody tr th:only-of-type {\n",
       "        vertical-align: middle;\n",
       "    }\n",
       "\n",
       "    .dataframe tbody tr th {\n",
       "        vertical-align: top;\n",
       "    }\n",
       "\n",
       "    .dataframe thead th {\n",
       "        text-align: right;\n",
       "    }\n",
       "</style>\n",
       "<table border=\"1\" class=\"dataframe\">\n",
       "  <thead>\n",
       "    <tr style=\"text-align: right;\">\n",
       "      <th></th>\n",
       "      <th>Date</th>\n",
       "      <th>AveragePrice</th>\n",
       "      <th>Total Volume</th>\n",
       "      <th>4046</th>\n",
       "      <th>4225</th>\n",
       "      <th>4770</th>\n",
       "      <th>Total Bags</th>\n",
       "      <th>Small Bags</th>\n",
       "      <th>Large Bags</th>\n",
       "      <th>XLarge Bags</th>\n",
       "      <th>type</th>\n",
       "      <th>year</th>\n",
       "      <th>region</th>\n",
       "      <th>Day</th>\n",
       "      <th>Month</th>\n",
       "    </tr>\n",
       "  </thead>\n",
       "  <tbody>\n",
       "    <tr>\n",
       "      <th>0</th>\n",
       "      <td>2015-12-27</td>\n",
       "      <td>1.33</td>\n",
       "      <td>64236.62</td>\n",
       "      <td>1036.74</td>\n",
       "      <td>54454.85</td>\n",
       "      <td>48.16</td>\n",
       "      <td>8696.87</td>\n",
       "      <td>8603.62</td>\n",
       "      <td>93.25</td>\n",
       "      <td>0.0</td>\n",
       "      <td>conventional</td>\n",
       "      <td>2015</td>\n",
       "      <td>Albany</td>\n",
       "      <td>27</td>\n",
       "      <td>12</td>\n",
       "    </tr>\n",
       "    <tr>\n",
       "      <th>1</th>\n",
       "      <td>2015-12-20</td>\n",
       "      <td>1.35</td>\n",
       "      <td>54876.98</td>\n",
       "      <td>674.28</td>\n",
       "      <td>44638.81</td>\n",
       "      <td>58.33</td>\n",
       "      <td>9505.56</td>\n",
       "      <td>9408.07</td>\n",
       "      <td>97.49</td>\n",
       "      <td>0.0</td>\n",
       "      <td>conventional</td>\n",
       "      <td>2015</td>\n",
       "      <td>Albany</td>\n",
       "      <td>20</td>\n",
       "      <td>12</td>\n",
       "    </tr>\n",
       "    <tr>\n",
       "      <th>2</th>\n",
       "      <td>2015-12-13</td>\n",
       "      <td>0.93</td>\n",
       "      <td>118220.22</td>\n",
       "      <td>794.70</td>\n",
       "      <td>109149.67</td>\n",
       "      <td>130.50</td>\n",
       "      <td>8145.35</td>\n",
       "      <td>8042.21</td>\n",
       "      <td>103.14</td>\n",
       "      <td>0.0</td>\n",
       "      <td>conventional</td>\n",
       "      <td>2015</td>\n",
       "      <td>Albany</td>\n",
       "      <td>13</td>\n",
       "      <td>12</td>\n",
       "    </tr>\n",
       "    <tr>\n",
       "      <th>3</th>\n",
       "      <td>2015-12-06</td>\n",
       "      <td>1.08</td>\n",
       "      <td>78992.15</td>\n",
       "      <td>1132.00</td>\n",
       "      <td>71976.41</td>\n",
       "      <td>72.58</td>\n",
       "      <td>5811.16</td>\n",
       "      <td>5677.40</td>\n",
       "      <td>133.76</td>\n",
       "      <td>0.0</td>\n",
       "      <td>conventional</td>\n",
       "      <td>2015</td>\n",
       "      <td>Albany</td>\n",
       "      <td>6</td>\n",
       "      <td>12</td>\n",
       "    </tr>\n",
       "    <tr>\n",
       "      <th>4</th>\n",
       "      <td>2015-11-29</td>\n",
       "      <td>1.28</td>\n",
       "      <td>51039.60</td>\n",
       "      <td>941.48</td>\n",
       "      <td>43838.39</td>\n",
       "      <td>75.78</td>\n",
       "      <td>6183.95</td>\n",
       "      <td>5986.26</td>\n",
       "      <td>197.69</td>\n",
       "      <td>0.0</td>\n",
       "      <td>conventional</td>\n",
       "      <td>2015</td>\n",
       "      <td>Albany</td>\n",
       "      <td>29</td>\n",
       "      <td>11</td>\n",
       "    </tr>\n",
       "    <tr>\n",
       "      <th>...</th>\n",
       "      <td>...</td>\n",
       "      <td>...</td>\n",
       "      <td>...</td>\n",
       "      <td>...</td>\n",
       "      <td>...</td>\n",
       "      <td>...</td>\n",
       "      <td>...</td>\n",
       "      <td>...</td>\n",
       "      <td>...</td>\n",
       "      <td>...</td>\n",
       "      <td>...</td>\n",
       "      <td>...</td>\n",
       "      <td>...</td>\n",
       "      <td>...</td>\n",
       "      <td>...</td>\n",
       "    </tr>\n",
       "    <tr>\n",
       "      <th>18244</th>\n",
       "      <td>2018-02-04</td>\n",
       "      <td>1.63</td>\n",
       "      <td>17074.83</td>\n",
       "      <td>2046.96</td>\n",
       "      <td>1529.20</td>\n",
       "      <td>0.00</td>\n",
       "      <td>13498.67</td>\n",
       "      <td>13066.82</td>\n",
       "      <td>431.85</td>\n",
       "      <td>0.0</td>\n",
       "      <td>organic</td>\n",
       "      <td>2018</td>\n",
       "      <td>WestTexNewMexico</td>\n",
       "      <td>4</td>\n",
       "      <td>2</td>\n",
       "    </tr>\n",
       "    <tr>\n",
       "      <th>18245</th>\n",
       "      <td>2018-01-28</td>\n",
       "      <td>1.71</td>\n",
       "      <td>13888.04</td>\n",
       "      <td>1191.70</td>\n",
       "      <td>3431.50</td>\n",
       "      <td>0.00</td>\n",
       "      <td>9264.84</td>\n",
       "      <td>8940.04</td>\n",
       "      <td>324.80</td>\n",
       "      <td>0.0</td>\n",
       "      <td>organic</td>\n",
       "      <td>2018</td>\n",
       "      <td>WestTexNewMexico</td>\n",
       "      <td>28</td>\n",
       "      <td>1</td>\n",
       "    </tr>\n",
       "    <tr>\n",
       "      <th>18246</th>\n",
       "      <td>2018-01-21</td>\n",
       "      <td>1.87</td>\n",
       "      <td>13766.76</td>\n",
       "      <td>1191.92</td>\n",
       "      <td>2452.79</td>\n",
       "      <td>727.94</td>\n",
       "      <td>9394.11</td>\n",
       "      <td>9351.80</td>\n",
       "      <td>42.31</td>\n",
       "      <td>0.0</td>\n",
       "      <td>organic</td>\n",
       "      <td>2018</td>\n",
       "      <td>WestTexNewMexico</td>\n",
       "      <td>21</td>\n",
       "      <td>1</td>\n",
       "    </tr>\n",
       "    <tr>\n",
       "      <th>18247</th>\n",
       "      <td>2018-01-14</td>\n",
       "      <td>1.93</td>\n",
       "      <td>16205.22</td>\n",
       "      <td>1527.63</td>\n",
       "      <td>2981.04</td>\n",
       "      <td>727.01</td>\n",
       "      <td>10969.54</td>\n",
       "      <td>10919.54</td>\n",
       "      <td>50.00</td>\n",
       "      <td>0.0</td>\n",
       "      <td>organic</td>\n",
       "      <td>2018</td>\n",
       "      <td>WestTexNewMexico</td>\n",
       "      <td>14</td>\n",
       "      <td>1</td>\n",
       "    </tr>\n",
       "    <tr>\n",
       "      <th>18248</th>\n",
       "      <td>2018-01-07</td>\n",
       "      <td>1.62</td>\n",
       "      <td>17489.58</td>\n",
       "      <td>2894.77</td>\n",
       "      <td>2356.13</td>\n",
       "      <td>224.53</td>\n",
       "      <td>12014.15</td>\n",
       "      <td>11988.14</td>\n",
       "      <td>26.01</td>\n",
       "      <td>0.0</td>\n",
       "      <td>organic</td>\n",
       "      <td>2018</td>\n",
       "      <td>WestTexNewMexico</td>\n",
       "      <td>7</td>\n",
       "      <td>1</td>\n",
       "    </tr>\n",
       "  </tbody>\n",
       "</table>\n",
       "<p>18249 rows × 15 columns</p>\n",
       "</div>"
      ],
      "text/plain": [
       "            Date  AveragePrice  Total Volume     4046       4225    4770  \\\n",
       "0     2015-12-27          1.33      64236.62  1036.74   54454.85   48.16   \n",
       "1     2015-12-20          1.35      54876.98   674.28   44638.81   58.33   \n",
       "2     2015-12-13          0.93     118220.22   794.70  109149.67  130.50   \n",
       "3     2015-12-06          1.08      78992.15  1132.00   71976.41   72.58   \n",
       "4     2015-11-29          1.28      51039.60   941.48   43838.39   75.78   \n",
       "...          ...           ...           ...      ...        ...     ...   \n",
       "18244 2018-02-04          1.63      17074.83  2046.96    1529.20    0.00   \n",
       "18245 2018-01-28          1.71      13888.04  1191.70    3431.50    0.00   \n",
       "18246 2018-01-21          1.87      13766.76  1191.92    2452.79  727.94   \n",
       "18247 2018-01-14          1.93      16205.22  1527.63    2981.04  727.01   \n",
       "18248 2018-01-07          1.62      17489.58  2894.77    2356.13  224.53   \n",
       "\n",
       "       Total Bags  Small Bags  Large Bags  XLarge Bags          type  year  \\\n",
       "0         8696.87     8603.62       93.25          0.0  conventional  2015   \n",
       "1         9505.56     9408.07       97.49          0.0  conventional  2015   \n",
       "2         8145.35     8042.21      103.14          0.0  conventional  2015   \n",
       "3         5811.16     5677.40      133.76          0.0  conventional  2015   \n",
       "4         6183.95     5986.26      197.69          0.0  conventional  2015   \n",
       "...           ...         ...         ...          ...           ...   ...   \n",
       "18244    13498.67    13066.82      431.85          0.0       organic  2018   \n",
       "18245     9264.84     8940.04      324.80          0.0       organic  2018   \n",
       "18246     9394.11     9351.80       42.31          0.0       organic  2018   \n",
       "18247    10969.54    10919.54       50.00          0.0       organic  2018   \n",
       "18248    12014.15    11988.14       26.01          0.0       organic  2018   \n",
       "\n",
       "                 region  Day  Month  \n",
       "0                Albany   27     12  \n",
       "1                Albany   20     12  \n",
       "2                Albany   13     12  \n",
       "3                Albany    6     12  \n",
       "4                Albany   29     11  \n",
       "...                 ...  ...    ...  \n",
       "18244  WestTexNewMexico    4      2  \n",
       "18245  WestTexNewMexico   28      1  \n",
       "18246  WestTexNewMexico   21      1  \n",
       "18247  WestTexNewMexico   14      1  \n",
       "18248  WestTexNewMexico    7      1  \n",
       "\n",
       "[18249 rows x 15 columns]"
      ]
     },
     "execution_count": 34,
     "metadata": {},
     "output_type": "execute_result"
    }
   ],
   "source": [
    "df"
   ]
  },
  {
   "cell_type": "markdown",
   "id": "e135a760",
   "metadata": {},
   "source": [
    "# Dropping 'Date' column since it doesn't contribute to building a good model for predicting the target variable values"
   ]
  },
  {
   "cell_type": "code",
   "execution_count": 35,
   "id": "340ef1ab",
   "metadata": {},
   "outputs": [
    {
     "data": {
      "text/html": [
       "<div>\n",
       "<style scoped>\n",
       "    .dataframe tbody tr th:only-of-type {\n",
       "        vertical-align: middle;\n",
       "    }\n",
       "\n",
       "    .dataframe tbody tr th {\n",
       "        vertical-align: top;\n",
       "    }\n",
       "\n",
       "    .dataframe thead th {\n",
       "        text-align: right;\n",
       "    }\n",
       "</style>\n",
       "<table border=\"1\" class=\"dataframe\">\n",
       "  <thead>\n",
       "    <tr style=\"text-align: right;\">\n",
       "      <th></th>\n",
       "      <th>AveragePrice</th>\n",
       "      <th>4046</th>\n",
       "      <th>4225</th>\n",
       "      <th>4770</th>\n",
       "      <th>Small Bags</th>\n",
       "      <th>Large Bags</th>\n",
       "      <th>XLarge Bags</th>\n",
       "      <th>type</th>\n",
       "      <th>year</th>\n",
       "      <th>region</th>\n",
       "      <th>Day</th>\n",
       "      <th>Month</th>\n",
       "    </tr>\n",
       "  </thead>\n",
       "  <tbody>\n",
       "    <tr>\n",
       "      <th>0</th>\n",
       "      <td>1.33</td>\n",
       "      <td>1036.74</td>\n",
       "      <td>54454.85</td>\n",
       "      <td>48.16</td>\n",
       "      <td>8603.62</td>\n",
       "      <td>93.25</td>\n",
       "      <td>0.0</td>\n",
       "      <td>conventional</td>\n",
       "      <td>2015</td>\n",
       "      <td>Albany</td>\n",
       "      <td>27</td>\n",
       "      <td>12</td>\n",
       "    </tr>\n",
       "    <tr>\n",
       "      <th>1</th>\n",
       "      <td>1.35</td>\n",
       "      <td>674.28</td>\n",
       "      <td>44638.81</td>\n",
       "      <td>58.33</td>\n",
       "      <td>9408.07</td>\n",
       "      <td>97.49</td>\n",
       "      <td>0.0</td>\n",
       "      <td>conventional</td>\n",
       "      <td>2015</td>\n",
       "      <td>Albany</td>\n",
       "      <td>20</td>\n",
       "      <td>12</td>\n",
       "    </tr>\n",
       "    <tr>\n",
       "      <th>2</th>\n",
       "      <td>0.93</td>\n",
       "      <td>794.70</td>\n",
       "      <td>109149.67</td>\n",
       "      <td>130.50</td>\n",
       "      <td>8042.21</td>\n",
       "      <td>103.14</td>\n",
       "      <td>0.0</td>\n",
       "      <td>conventional</td>\n",
       "      <td>2015</td>\n",
       "      <td>Albany</td>\n",
       "      <td>13</td>\n",
       "      <td>12</td>\n",
       "    </tr>\n",
       "    <tr>\n",
       "      <th>3</th>\n",
       "      <td>1.08</td>\n",
       "      <td>1132.00</td>\n",
       "      <td>71976.41</td>\n",
       "      <td>72.58</td>\n",
       "      <td>5677.40</td>\n",
       "      <td>133.76</td>\n",
       "      <td>0.0</td>\n",
       "      <td>conventional</td>\n",
       "      <td>2015</td>\n",
       "      <td>Albany</td>\n",
       "      <td>6</td>\n",
       "      <td>12</td>\n",
       "    </tr>\n",
       "    <tr>\n",
       "      <th>4</th>\n",
       "      <td>1.28</td>\n",
       "      <td>941.48</td>\n",
       "      <td>43838.39</td>\n",
       "      <td>75.78</td>\n",
       "      <td>5986.26</td>\n",
       "      <td>197.69</td>\n",
       "      <td>0.0</td>\n",
       "      <td>conventional</td>\n",
       "      <td>2015</td>\n",
       "      <td>Albany</td>\n",
       "      <td>29</td>\n",
       "      <td>11</td>\n",
       "    </tr>\n",
       "    <tr>\n",
       "      <th>...</th>\n",
       "      <td>...</td>\n",
       "      <td>...</td>\n",
       "      <td>...</td>\n",
       "      <td>...</td>\n",
       "      <td>...</td>\n",
       "      <td>...</td>\n",
       "      <td>...</td>\n",
       "      <td>...</td>\n",
       "      <td>...</td>\n",
       "      <td>...</td>\n",
       "      <td>...</td>\n",
       "      <td>...</td>\n",
       "    </tr>\n",
       "    <tr>\n",
       "      <th>18244</th>\n",
       "      <td>1.63</td>\n",
       "      <td>2046.96</td>\n",
       "      <td>1529.20</td>\n",
       "      <td>0.00</td>\n",
       "      <td>13066.82</td>\n",
       "      <td>431.85</td>\n",
       "      <td>0.0</td>\n",
       "      <td>organic</td>\n",
       "      <td>2018</td>\n",
       "      <td>WestTexNewMexico</td>\n",
       "      <td>4</td>\n",
       "      <td>2</td>\n",
       "    </tr>\n",
       "    <tr>\n",
       "      <th>18245</th>\n",
       "      <td>1.71</td>\n",
       "      <td>1191.70</td>\n",
       "      <td>3431.50</td>\n",
       "      <td>0.00</td>\n",
       "      <td>8940.04</td>\n",
       "      <td>324.80</td>\n",
       "      <td>0.0</td>\n",
       "      <td>organic</td>\n",
       "      <td>2018</td>\n",
       "      <td>WestTexNewMexico</td>\n",
       "      <td>28</td>\n",
       "      <td>1</td>\n",
       "    </tr>\n",
       "    <tr>\n",
       "      <th>18246</th>\n",
       "      <td>1.87</td>\n",
       "      <td>1191.92</td>\n",
       "      <td>2452.79</td>\n",
       "      <td>727.94</td>\n",
       "      <td>9351.80</td>\n",
       "      <td>42.31</td>\n",
       "      <td>0.0</td>\n",
       "      <td>organic</td>\n",
       "      <td>2018</td>\n",
       "      <td>WestTexNewMexico</td>\n",
       "      <td>21</td>\n",
       "      <td>1</td>\n",
       "    </tr>\n",
       "    <tr>\n",
       "      <th>18247</th>\n",
       "      <td>1.93</td>\n",
       "      <td>1527.63</td>\n",
       "      <td>2981.04</td>\n",
       "      <td>727.01</td>\n",
       "      <td>10919.54</td>\n",
       "      <td>50.00</td>\n",
       "      <td>0.0</td>\n",
       "      <td>organic</td>\n",
       "      <td>2018</td>\n",
       "      <td>WestTexNewMexico</td>\n",
       "      <td>14</td>\n",
       "      <td>1</td>\n",
       "    </tr>\n",
       "    <tr>\n",
       "      <th>18248</th>\n",
       "      <td>1.62</td>\n",
       "      <td>2894.77</td>\n",
       "      <td>2356.13</td>\n",
       "      <td>224.53</td>\n",
       "      <td>11988.14</td>\n",
       "      <td>26.01</td>\n",
       "      <td>0.0</td>\n",
       "      <td>organic</td>\n",
       "      <td>2018</td>\n",
       "      <td>WestTexNewMexico</td>\n",
       "      <td>7</td>\n",
       "      <td>1</td>\n",
       "    </tr>\n",
       "  </tbody>\n",
       "</table>\n",
       "<p>18249 rows × 12 columns</p>\n",
       "</div>"
      ],
      "text/plain": [
       "       AveragePrice     4046       4225    4770  Small Bags  Large Bags  \\\n",
       "0              1.33  1036.74   54454.85   48.16     8603.62       93.25   \n",
       "1              1.35   674.28   44638.81   58.33     9408.07       97.49   \n",
       "2              0.93   794.70  109149.67  130.50     8042.21      103.14   \n",
       "3              1.08  1132.00   71976.41   72.58     5677.40      133.76   \n",
       "4              1.28   941.48   43838.39   75.78     5986.26      197.69   \n",
       "...             ...      ...        ...     ...         ...         ...   \n",
       "18244          1.63  2046.96    1529.20    0.00    13066.82      431.85   \n",
       "18245          1.71  1191.70    3431.50    0.00     8940.04      324.80   \n",
       "18246          1.87  1191.92    2452.79  727.94     9351.80       42.31   \n",
       "18247          1.93  1527.63    2981.04  727.01    10919.54       50.00   \n",
       "18248          1.62  2894.77    2356.13  224.53    11988.14       26.01   \n",
       "\n",
       "       XLarge Bags          type  year            region  Day  Month  \n",
       "0              0.0  conventional  2015            Albany   27     12  \n",
       "1              0.0  conventional  2015            Albany   20     12  \n",
       "2              0.0  conventional  2015            Albany   13     12  \n",
       "3              0.0  conventional  2015            Albany    6     12  \n",
       "4              0.0  conventional  2015            Albany   29     11  \n",
       "...            ...           ...   ...               ...  ...    ...  \n",
       "18244          0.0       organic  2018  WestTexNewMexico    4      2  \n",
       "18245          0.0       organic  2018  WestTexNewMexico   28      1  \n",
       "18246          0.0       organic  2018  WestTexNewMexico   21      1  \n",
       "18247          0.0       organic  2018  WestTexNewMexico   14      1  \n",
       "18248          0.0       organic  2018  WestTexNewMexico    7      1  \n",
       "\n",
       "[18249 rows x 12 columns]"
      ]
     },
     "execution_count": 35,
     "metadata": {},
     "output_type": "execute_result"
    }
   ],
   "source": [
    "df.drop(columns = ['Date','Total Volume','Total Bags' ],inplace = True)\n",
    "df"
   ]
  },
  {
   "cell_type": "markdown",
   "id": "9ebc8436",
   "metadata": {},
   "source": [
    "# Checking for Outliers in continuous data type Features."
   ]
  },
  {
   "cell_type": "code",
   "execution_count": 36,
   "id": "9d2c6604",
   "metadata": {},
   "outputs": [
    {
     "data": {
      "image/png": "[encoded data removed]",
      "text/plain": [
       "<Figure size 1440x1800 with 8 Axes>"
      ]
     },
     "metadata": {},
     "output_type": "display_data"
    }
   ],
   "source": [
    "plt.figure(figsize=(20,25),facecolor='white')\n",
    "plotnum=1\n",
    "for col in df.drop(columns = ['year','type','region','AveragePrice'],axis=1):\n",
    "    if plotnum<=11:\n",
    "        plt.subplot(5,5,plotnum)\n",
    "        sns.boxplot(df[col])\n",
    "        plt.xlabel(col,fontsize=20)\n",
    "    plotnum+=1\n",
    "plt.show()"
   ]
  },
  {
   "cell_type": "markdown",
   "id": "cbf26e84",
   "metadata": {},
   "source": [
    "# Removing Outliers\n",
    "Removing Outliers using Z score Method"
   ]
  },
  {
   "cell_type": "code",
   "execution_count": 37,
   "id": "453838ca",
   "metadata": {},
   "outputs": [
    {
     "data": {
      "text/html": [
       "<div>\n",
       "<style scoped>\n",
       "    .dataframe tbody tr th:only-of-type {\n",
       "        vertical-align: middle;\n",
       "    }\n",
       "\n",
       "    .dataframe tbody tr th {\n",
       "        vertical-align: top;\n",
       "    }\n",
       "\n",
       "    .dataframe thead th {\n",
       "        text-align: right;\n",
       "    }\n",
       "</style>\n",
       "<table border=\"1\" class=\"dataframe\">\n",
       "  <thead>\n",
       "    <tr style=\"text-align: right;\">\n",
       "      <th></th>\n",
       "      <th>4046</th>\n",
       "      <th>4225</th>\n",
       "      <th>4770</th>\n",
       "      <th>Small Bags</th>\n",
       "      <th>Large Bags</th>\n",
       "      <th>XLarge Bags</th>\n",
       "      <th>Day</th>\n",
       "      <th>Month</th>\n",
       "    </tr>\n",
       "  </thead>\n",
       "  <tbody>\n",
       "    <tr>\n",
       "      <th>0</th>\n",
       "      <td>1036.74</td>\n",
       "      <td>54454.85</td>\n",
       "      <td>48.16</td>\n",
       "      <td>8603.62</td>\n",
       "      <td>93.25</td>\n",
       "      <td>0.0</td>\n",
       "      <td>27</td>\n",
       "      <td>12</td>\n",
       "    </tr>\n",
       "    <tr>\n",
       "      <th>1</th>\n",
       "      <td>674.28</td>\n",
       "      <td>44638.81</td>\n",
       "      <td>58.33</td>\n",
       "      <td>9408.07</td>\n",
       "      <td>97.49</td>\n",
       "      <td>0.0</td>\n",
       "      <td>20</td>\n",
       "      <td>12</td>\n",
       "    </tr>\n",
       "    <tr>\n",
       "      <th>2</th>\n",
       "      <td>794.70</td>\n",
       "      <td>109149.67</td>\n",
       "      <td>130.50</td>\n",
       "      <td>8042.21</td>\n",
       "      <td>103.14</td>\n",
       "      <td>0.0</td>\n",
       "      <td>13</td>\n",
       "      <td>12</td>\n",
       "    </tr>\n",
       "    <tr>\n",
       "      <th>3</th>\n",
       "      <td>1132.00</td>\n",
       "      <td>71976.41</td>\n",
       "      <td>72.58</td>\n",
       "      <td>5677.40</td>\n",
       "      <td>133.76</td>\n",
       "      <td>0.0</td>\n",
       "      <td>6</td>\n",
       "      <td>12</td>\n",
       "    </tr>\n",
       "    <tr>\n",
       "      <th>4</th>\n",
       "      <td>941.48</td>\n",
       "      <td>43838.39</td>\n",
       "      <td>75.78</td>\n",
       "      <td>5986.26</td>\n",
       "      <td>197.69</td>\n",
       "      <td>0.0</td>\n",
       "      <td>29</td>\n",
       "      <td>11</td>\n",
       "    </tr>\n",
       "    <tr>\n",
       "      <th>...</th>\n",
       "      <td>...</td>\n",
       "      <td>...</td>\n",
       "      <td>...</td>\n",
       "      <td>...</td>\n",
       "      <td>...</td>\n",
       "      <td>...</td>\n",
       "      <td>...</td>\n",
       "      <td>...</td>\n",
       "    </tr>\n",
       "    <tr>\n",
       "      <th>18244</th>\n",
       "      <td>2046.96</td>\n",
       "      <td>1529.20</td>\n",
       "      <td>0.00</td>\n",
       "      <td>13066.82</td>\n",
       "      <td>431.85</td>\n",
       "      <td>0.0</td>\n",
       "      <td>4</td>\n",
       "      <td>2</td>\n",
       "    </tr>\n",
       "    <tr>\n",
       "      <th>18245</th>\n",
       "      <td>1191.70</td>\n",
       "      <td>3431.50</td>\n",
       "      <td>0.00</td>\n",
       "      <td>8940.04</td>\n",
       "      <td>324.80</td>\n",
       "      <td>0.0</td>\n",
       "      <td>28</td>\n",
       "      <td>1</td>\n",
       "    </tr>\n",
       "    <tr>\n",
       "      <th>18246</th>\n",
       "      <td>1191.92</td>\n",
       "      <td>2452.79</td>\n",
       "      <td>727.94</td>\n",
       "      <td>9351.80</td>\n",
       "      <td>42.31</td>\n",
       "      <td>0.0</td>\n",
       "      <td>21</td>\n",
       "      <td>1</td>\n",
       "    </tr>\n",
       "    <tr>\n",
       "      <th>18247</th>\n",
       "      <td>1527.63</td>\n",
       "      <td>2981.04</td>\n",
       "      <td>727.01</td>\n",
       "      <td>10919.54</td>\n",
       "      <td>50.00</td>\n",
       "      <td>0.0</td>\n",
       "      <td>14</td>\n",
       "      <td>1</td>\n",
       "    </tr>\n",
       "    <tr>\n",
       "      <th>18248</th>\n",
       "      <td>2894.77</td>\n",
       "      <td>2356.13</td>\n",
       "      <td>224.53</td>\n",
       "      <td>11988.14</td>\n",
       "      <td>26.01</td>\n",
       "      <td>0.0</td>\n",
       "      <td>7</td>\n",
       "      <td>1</td>\n",
       "    </tr>\n",
       "  </tbody>\n",
       "</table>\n",
       "<p>18249 rows × 8 columns</p>\n",
       "</div>"
      ],
      "text/plain": [
       "          4046       4225    4770  Small Bags  Large Bags  XLarge Bags  Day  \\\n",
       "0      1036.74   54454.85   48.16     8603.62       93.25          0.0   27   \n",
       "1       674.28   44638.81   58.33     9408.07       97.49          0.0   20   \n",
       "2       794.70  109149.67  130.50     8042.21      103.14          0.0   13   \n",
       "3      1132.00   71976.41   72.58     5677.40      133.76          0.0    6   \n",
       "4       941.48   43838.39   75.78     5986.26      197.69          0.0   29   \n",
       "...        ...        ...     ...         ...         ...          ...  ...   \n",
       "18244  2046.96    1529.20    0.00    13066.82      431.85          0.0    4   \n",
       "18245  1191.70    3431.50    0.00     8940.04      324.80          0.0   28   \n",
       "18246  1191.92    2452.79  727.94     9351.80       42.31          0.0   21   \n",
       "18247  1527.63    2981.04  727.01    10919.54       50.00          0.0   14   \n",
       "18248  2894.77    2356.13  224.53    11988.14       26.01          0.0    7   \n",
       "\n",
       "       Month  \n",
       "0         12  \n",
       "1         12  \n",
       "2         12  \n",
       "3         12  \n",
       "4         11  \n",
       "...      ...  \n",
       "18244      2  \n",
       "18245      1  \n",
       "18246      1  \n",
       "18247      1  \n",
       "18248      1  \n",
       "\n",
       "[18249 rows x 8 columns]"
      ]
     },
     "execution_count": 37,
     "metadata": {},
     "output_type": "execute_result"
    }
   ],
   "source": [
    "df1 =df.drop(columns = ['year','type','region','AveragePrice'],axis=1).copy() #making a copy of all continuous data type columns.\n",
    "df1"
   ]
  },
  {
   "cell_type": "code",
   "execution_count": 38,
   "id": "1852f04c",
   "metadata": {},
   "outputs": [],
   "source": [
    "from scipy.stats import zscore\n",
    "zscor = zscore(df1)\n",
    "z_score_abs = np.abs(zscor)\n",
    "#threshold = 3\n",
    "df2 = df1[(z_score_abs < 3).all(axis=1)]"
   ]
  },
  {
   "cell_type": "code",
   "execution_count": 39,
   "id": "dc36e7a8",
   "metadata": {},
   "outputs": [
    {
     "data": {
      "text/plain": [
       "(17782, 8)"
      ]
     },
     "execution_count": 39,
     "metadata": {},
     "output_type": "execute_result"
    }
   ],
   "source": [
    "df2.shape"
   ]
  },
  {
   "cell_type": "code",
   "execution_count": 40,
   "id": "207ef466",
   "metadata": {},
   "outputs": [
    {
     "data": {
      "text/plain": [
       "(18249, 8)"
      ]
     },
     "execution_count": 40,
     "metadata": {},
     "output_type": "execute_result"
    }
   ],
   "source": [
    "df1.shape"
   ]
  },
  {
   "cell_type": "markdown",
   "id": "6157b6b1",
   "metadata": {},
   "source": [
    "# % Data loss"
   ]
  },
  {
   "cell_type": "code",
   "execution_count": 41,
   "id": "57ecf294",
   "metadata": {},
   "outputs": [
    {
     "data": {
      "text/plain": [
       "2.55904433119623"
      ]
     },
     "execution_count": 41,
     "metadata": {},
     "output_type": "execute_result"
    }
   ],
   "source": [
    "loss=(18249-17782)/18249 * 100\n",
    "loss"
   ]
  },
  {
   "cell_type": "code",
   "execution_count": 42,
   "id": "4bad62e8",
   "metadata": {},
   "outputs": [
    {
     "data": {
      "text/plain": [
       "Int64Index([ 346,  359,  780,  781,  783,  787,  788,  790,  791,  792,\n",
       "            ...\n",
       "            9104, 9105, 9106, 9107, 9108, 9109, 9110, 9111, 9112, 9113],\n",
       "           dtype='int64', length=467)"
      ]
     },
     "execution_count": 42,
     "metadata": {},
     "output_type": "execute_result"
    }
   ],
   "source": [
    "dropindx = df.index.difference(df2.index)\n",
    "dropindx\n"
   ]
  },
  {
   "cell_type": "code",
   "execution_count": 43,
   "id": "920dafab",
   "metadata": {},
   "outputs": [
    {
     "data": {
      "text/html": [
       "<div>\n",
       "<style scoped>\n",
       "    .dataframe tbody tr th:only-of-type {\n",
       "        vertical-align: middle;\n",
       "    }\n",
       "\n",
       "    .dataframe tbody tr th {\n",
       "        vertical-align: top;\n",
       "    }\n",
       "\n",
       "    .dataframe thead th {\n",
       "        text-align: right;\n",
       "    }\n",
       "</style>\n",
       "<table border=\"1\" class=\"dataframe\">\n",
       "  <thead>\n",
       "    <tr style=\"text-align: right;\">\n",
       "      <th></th>\n",
       "      <th>AveragePrice</th>\n",
       "      <th>4046</th>\n",
       "      <th>4225</th>\n",
       "      <th>4770</th>\n",
       "      <th>Small Bags</th>\n",
       "      <th>Large Bags</th>\n",
       "      <th>XLarge Bags</th>\n",
       "      <th>type</th>\n",
       "      <th>year</th>\n",
       "      <th>region</th>\n",
       "      <th>Day</th>\n",
       "      <th>Month</th>\n",
       "    </tr>\n",
       "  </thead>\n",
       "  <tbody>\n",
       "    <tr>\n",
       "      <th>0</th>\n",
       "      <td>1.33</td>\n",
       "      <td>1036.74</td>\n",
       "      <td>54454.85</td>\n",
       "      <td>48.16</td>\n",
       "      <td>8603.62</td>\n",
       "      <td>93.25</td>\n",
       "      <td>0.0</td>\n",
       "      <td>conventional</td>\n",
       "      <td>2015</td>\n",
       "      <td>Albany</td>\n",
       "      <td>27</td>\n",
       "      <td>12</td>\n",
       "    </tr>\n",
       "    <tr>\n",
       "      <th>1</th>\n",
       "      <td>1.35</td>\n",
       "      <td>674.28</td>\n",
       "      <td>44638.81</td>\n",
       "      <td>58.33</td>\n",
       "      <td>9408.07</td>\n",
       "      <td>97.49</td>\n",
       "      <td>0.0</td>\n",
       "      <td>conventional</td>\n",
       "      <td>2015</td>\n",
       "      <td>Albany</td>\n",
       "      <td>20</td>\n",
       "      <td>12</td>\n",
       "    </tr>\n",
       "    <tr>\n",
       "      <th>2</th>\n",
       "      <td>0.93</td>\n",
       "      <td>794.70</td>\n",
       "      <td>109149.67</td>\n",
       "      <td>130.50</td>\n",
       "      <td>8042.21</td>\n",
       "      <td>103.14</td>\n",
       "      <td>0.0</td>\n",
       "      <td>conventional</td>\n",
       "      <td>2015</td>\n",
       "      <td>Albany</td>\n",
       "      <td>13</td>\n",
       "      <td>12</td>\n",
       "    </tr>\n",
       "    <tr>\n",
       "      <th>3</th>\n",
       "      <td>1.08</td>\n",
       "      <td>1132.00</td>\n",
       "      <td>71976.41</td>\n",
       "      <td>72.58</td>\n",
       "      <td>5677.40</td>\n",
       "      <td>133.76</td>\n",
       "      <td>0.0</td>\n",
       "      <td>conventional</td>\n",
       "      <td>2015</td>\n",
       "      <td>Albany</td>\n",
       "      <td>6</td>\n",
       "      <td>12</td>\n",
       "    </tr>\n",
       "    <tr>\n",
       "      <th>4</th>\n",
       "      <td>1.28</td>\n",
       "      <td>941.48</td>\n",
       "      <td>43838.39</td>\n",
       "      <td>75.78</td>\n",
       "      <td>5986.26</td>\n",
       "      <td>197.69</td>\n",
       "      <td>0.0</td>\n",
       "      <td>conventional</td>\n",
       "      <td>2015</td>\n",
       "      <td>Albany</td>\n",
       "      <td>29</td>\n",
       "      <td>11</td>\n",
       "    </tr>\n",
       "    <tr>\n",
       "      <th>...</th>\n",
       "      <td>...</td>\n",
       "      <td>...</td>\n",
       "      <td>...</td>\n",
       "      <td>...</td>\n",
       "      <td>...</td>\n",
       "      <td>...</td>\n",
       "      <td>...</td>\n",
       "      <td>...</td>\n",
       "      <td>...</td>\n",
       "      <td>...</td>\n",
       "      <td>...</td>\n",
       "      <td>...</td>\n",
       "    </tr>\n",
       "    <tr>\n",
       "      <th>18244</th>\n",
       "      <td>1.63</td>\n",
       "      <td>2046.96</td>\n",
       "      <td>1529.20</td>\n",
       "      <td>0.00</td>\n",
       "      <td>13066.82</td>\n",
       "      <td>431.85</td>\n",
       "      <td>0.0</td>\n",
       "      <td>organic</td>\n",
       "      <td>2018</td>\n",
       "      <td>WestTexNewMexico</td>\n",
       "      <td>4</td>\n",
       "      <td>2</td>\n",
       "    </tr>\n",
       "    <tr>\n",
       "      <th>18245</th>\n",
       "      <td>1.71</td>\n",
       "      <td>1191.70</td>\n",
       "      <td>3431.50</td>\n",
       "      <td>0.00</td>\n",
       "      <td>8940.04</td>\n",
       "      <td>324.80</td>\n",
       "      <td>0.0</td>\n",
       "      <td>organic</td>\n",
       "      <td>2018</td>\n",
       "      <td>WestTexNewMexico</td>\n",
       "      <td>28</td>\n",
       "      <td>1</td>\n",
       "    </tr>\n",
       "    <tr>\n",
       "      <th>18246</th>\n",
       "      <td>1.87</td>\n",
       "      <td>1191.92</td>\n",
       "      <td>2452.79</td>\n",
       "      <td>727.94</td>\n",
       "      <td>9351.80</td>\n",
       "      <td>42.31</td>\n",
       "      <td>0.0</td>\n",
       "      <td>organic</td>\n",
       "      <td>2018</td>\n",
       "      <td>WestTexNewMexico</td>\n",
       "      <td>21</td>\n",
       "      <td>1</td>\n",
       "    </tr>\n",
       "    <tr>\n",
       "      <th>18247</th>\n",
       "      <td>1.93</td>\n",
       "      <td>1527.63</td>\n",
       "      <td>2981.04</td>\n",
       "      <td>727.01</td>\n",
       "      <td>10919.54</td>\n",
       "      <td>50.00</td>\n",
       "      <td>0.0</td>\n",
       "      <td>organic</td>\n",
       "      <td>2018</td>\n",
       "      <td>WestTexNewMexico</td>\n",
       "      <td>14</td>\n",
       "      <td>1</td>\n",
       "    </tr>\n",
       "    <tr>\n",
       "      <th>18248</th>\n",
       "      <td>1.62</td>\n",
       "      <td>2894.77</td>\n",
       "      <td>2356.13</td>\n",
       "      <td>224.53</td>\n",
       "      <td>11988.14</td>\n",
       "      <td>26.01</td>\n",
       "      <td>0.0</td>\n",
       "      <td>organic</td>\n",
       "      <td>2018</td>\n",
       "      <td>WestTexNewMexico</td>\n",
       "      <td>7</td>\n",
       "      <td>1</td>\n",
       "    </tr>\n",
       "  </tbody>\n",
       "</table>\n",
       "<p>17782 rows × 12 columns</p>\n",
       "</div>"
      ],
      "text/plain": [
       "       AveragePrice     4046       4225    4770  Small Bags  Large Bags  \\\n",
       "0              1.33  1036.74   54454.85   48.16     8603.62       93.25   \n",
       "1              1.35   674.28   44638.81   58.33     9408.07       97.49   \n",
       "2              0.93   794.70  109149.67  130.50     8042.21      103.14   \n",
       "3              1.08  1132.00   71976.41   72.58     5677.40      133.76   \n",
       "4              1.28   941.48   43838.39   75.78     5986.26      197.69   \n",
       "...             ...      ...        ...     ...         ...         ...   \n",
       "18244          1.63  2046.96    1529.20    0.00    13066.82      431.85   \n",
       "18245          1.71  1191.70    3431.50    0.00     8940.04      324.80   \n",
       "18246          1.87  1191.92    2452.79  727.94     9351.80       42.31   \n",
       "18247          1.93  1527.63    2981.04  727.01    10919.54       50.00   \n",
       "18248          1.62  2894.77    2356.13  224.53    11988.14       26.01   \n",
       "\n",
       "       XLarge Bags          type  year            region  Day  Month  \n",
       "0              0.0  conventional  2015            Albany   27     12  \n",
       "1              0.0  conventional  2015            Albany   20     12  \n",
       "2              0.0  conventional  2015            Albany   13     12  \n",
       "3              0.0  conventional  2015            Albany    6     12  \n",
       "4              0.0  conventional  2015            Albany   29     11  \n",
       "...            ...           ...   ...               ...  ...    ...  \n",
       "18244          0.0       organic  2018  WestTexNewMexico    4      2  \n",
       "18245          0.0       organic  2018  WestTexNewMexico   28      1  \n",
       "18246          0.0       organic  2018  WestTexNewMexico   21      1  \n",
       "18247          0.0       organic  2018  WestTexNewMexico   14      1  \n",
       "18248          0.0       organic  2018  WestTexNewMexico    7      1  \n",
       "\n",
       "[17782 rows x 12 columns]"
      ]
     },
     "execution_count": 43,
     "metadata": {},
     "output_type": "execute_result"
    }
   ],
   "source": [
    "df.drop(dropindx,inplace = True) \n",
    "df"
   ]
  },
  {
   "cell_type": "code",
   "execution_count": 44,
   "id": "bdbda91b",
   "metadata": {},
   "outputs": [
    {
     "data": {
      "image/png": "[encoded data removed]",
      "text/plain": [
       "<Figure size 1440x1800 with 8 Axes>"
      ]
     },
     "metadata": {},
     "output_type": "display_data"
    }
   ],
   "source": [
    "df.reset_index(drop=True,inplace = True) #resetting the index of the dataframe\n",
    "plt.figure(figsize=(20,25),facecolor='white')\n",
    "plotnum=1\n",
    "for col in df.drop(columns = ['year','type','region','AveragePrice'],axis=1):\n",
    "    if plotnum<=11:\n",
    "        plt.subplot(5,5,plotnum)\n",
    "        sns.boxplot(df[col])\n",
    "        plt.xlabel(col,fontsize=20)\n",
    "    plotnum+=1\n",
    "plt.show()"
   ]
  },
  {
   "cell_type": "markdown",
   "id": "dcf3bc73",
   "metadata": {},
   "source": [
    " Some amount of outliers has been removed."
   ]
  },
  {
   "cell_type": "markdown",
   "id": "d3857792",
   "metadata": {},
   "source": [
    "# Checking for skewness in data distributions"
   ]
  },
  {
   "cell_type": "code",
   "execution_count": 45,
   "id": "d6a8d603",
   "metadata": {},
   "outputs": [
    {
     "data": {
      "text/plain": [
       "AveragePrice    0.560969\n",
       "4046            4.928850\n",
       "4225            4.472729\n",
       "4770            5.137120\n",
       "Small Bags      4.238647\n",
       "Large Bags      5.072468\n",
       "XLarge Bags     6.159391\n",
       "year            0.220792\n",
       "Day             0.011251\n",
       "Month           0.098217\n",
       "dtype: float64"
      ]
     },
     "execution_count": 45,
     "metadata": {},
     "output_type": "execute_result"
    }
   ],
   "source": [
    "df.skew()"
   ]
  },
  {
   "cell_type": "markdown",
   "id": "96f11f53",
   "metadata": {},
   "source": [
    "# Normalizing Data Distribution using PowerTransformer"
   ]
  },
  {
   "cell_type": "code",
   "execution_count": 46,
   "id": "ac46e7f3",
   "metadata": {},
   "outputs": [
    {
     "data": {
      "text/plain": [
       "numpy.ndarray"
      ]
     },
     "execution_count": 46,
     "metadata": {},
     "output_type": "execute_result"
    }
   ],
   "source": [
    "from sklearn.preprocessing import PowerTransformer\n",
    "powtrans= PowerTransformer(method='yeo-johnson', standardize=True)\n",
    "df3 = df.drop(columns = ['year','type','region','AveragePrice'],axis=1)\n",
    "transformed= powtrans.fit_transform(df3)\n",
    "type(transformed)"
   ]
  },
  {
   "cell_type": "code",
   "execution_count": 47,
   "id": "ab74be52",
   "metadata": {},
   "outputs": [
    {
     "data": {
      "text/plain": [
       "4046          -0.038259\n",
       "4225          -0.043246\n",
       "4770           0.028015\n",
       "Small Bags    -0.024657\n",
       "Large Bags    -0.110061\n",
       "XLarge Bags    0.860603\n",
       "Day           -0.209306\n",
       "Month         -0.149112\n",
       "dtype: float64"
      ]
     },
     "execution_count": 47,
     "metadata": {},
     "output_type": "execute_result"
    }
   ],
   "source": [
    "transformed = pd.DataFrame(transformed, columns=df3.columns) #to convert numpy array back into dataframe\n",
    "transformed.skew()"
   ]
  },
  {
   "cell_type": "code",
   "execution_count": 48,
   "id": "01c8a945",
   "metadata": {},
   "outputs": [
    {
     "data": {
      "text/plain": [
       "AveragePrice    0.560969\n",
       "4046           -0.038259\n",
       "4225           -0.043246\n",
       "4770            0.028015\n",
       "Small Bags     -0.024657\n",
       "Large Bags     -0.110061\n",
       "XLarge Bags     0.860603\n",
       "year            0.220792\n",
       "Day             0.011251\n",
       "Month           0.098217\n",
       "dtype: float64"
      ]
     },
     "execution_count": 48,
     "metadata": {},
     "output_type": "execute_result"
    }
   ],
   "source": [
    "transformed.index = df.index\n",
    "Skewed = ['4046','4225','4770','Small Bags','Large Bags','XLarge Bags']\n",
    "df[Skewed] = transformed[Skewed]\n",
    "df.skew()"
   ]
  },
  {
   "cell_type": "markdown",
   "id": "4031a9f3",
   "metadata": {},
   "source": [
    " A lot of skewness has been removed."
   ]
  },
  {
   "cell_type": "code",
   "execution_count": 49,
   "id": "bd81a982",
   "metadata": {},
   "outputs": [
    {
     "data": {
      "image/png": "[encoded data removed]",
      "text/plain": [
       "<Figure size 1440x1800 with 5 Axes>"
      ]
     },
     "metadata": {},
     "output_type": "display_data"
    }
   ],
   "source": [
    "dftest = df.head(300) #taking a small sample of the main dataframe to analyse the skewness of data in the continuous type feature columns\n",
    "plt.figure(figsize=(20,25),facecolor='white')\n",
    "plotnum=1\n",
    "for col in dftest[['4046','4225','Small Bags','Large Bags','XLarge Bags']]:\n",
    "    if plotnum<=10:\n",
    "        plt.subplot(4,4,plotnum)\n",
    "        sns.distplot(dftest[col])\n",
    "        plt.xlabel(col,fontsize=20)\n",
    "    plotnum+=1\n",
    "plt.show()"
   ]
  },
  {
   "cell_type": "markdown",
   "id": "bff37fdd",
   "metadata": {},
   "source": [
    " Data Distribution looks much more normalised now."
   ]
  },
  {
   "cell_type": "markdown",
   "id": "25f87f16",
   "metadata": {},
   "source": [
    "# Encoding Categorical Columns"
   ]
  },
  {
   "cell_type": "markdown",
   "id": "c92c3793",
   "metadata": {},
   "source": [
    "# Encoding 'type' using get_dummies()"
   ]
  },
  {
   "cell_type": "code",
   "execution_count": 50,
   "id": "760195a7",
   "metadata": {},
   "outputs": [
    {
     "data": {
      "text/html": [
       "<div>\n",
       "<style scoped>\n",
       "    .dataframe tbody tr th:only-of-type {\n",
       "        vertical-align: middle;\n",
       "    }\n",
       "\n",
       "    .dataframe tbody tr th {\n",
       "        vertical-align: top;\n",
       "    }\n",
       "\n",
       "    .dataframe thead th {\n",
       "        text-align: right;\n",
       "    }\n",
       "</style>\n",
       "<table border=\"1\" class=\"dataframe\">\n",
       "  <thead>\n",
       "    <tr style=\"text-align: right;\">\n",
       "      <th></th>\n",
       "      <th>type_conventional</th>\n",
       "      <th>type_organic</th>\n",
       "    </tr>\n",
       "  </thead>\n",
       "  <tbody>\n",
       "    <tr>\n",
       "      <th>0</th>\n",
       "      <td>1</td>\n",
       "      <td>0</td>\n",
       "    </tr>\n",
       "    <tr>\n",
       "      <th>1</th>\n",
       "      <td>1</td>\n",
       "      <td>0</td>\n",
       "    </tr>\n",
       "    <tr>\n",
       "      <th>2</th>\n",
       "      <td>1</td>\n",
       "      <td>0</td>\n",
       "    </tr>\n",
       "    <tr>\n",
       "      <th>3</th>\n",
       "      <td>1</td>\n",
       "      <td>0</td>\n",
       "    </tr>\n",
       "    <tr>\n",
       "      <th>4</th>\n",
       "      <td>1</td>\n",
       "      <td>0</td>\n",
       "    </tr>\n",
       "    <tr>\n",
       "      <th>...</th>\n",
       "      <td>...</td>\n",
       "      <td>...</td>\n",
       "    </tr>\n",
       "    <tr>\n",
       "      <th>17777</th>\n",
       "      <td>0</td>\n",
       "      <td>1</td>\n",
       "    </tr>\n",
       "    <tr>\n",
       "      <th>17778</th>\n",
       "      <td>0</td>\n",
       "      <td>1</td>\n",
       "    </tr>\n",
       "    <tr>\n",
       "      <th>17779</th>\n",
       "      <td>0</td>\n",
       "      <td>1</td>\n",
       "    </tr>\n",
       "    <tr>\n",
       "      <th>17780</th>\n",
       "      <td>0</td>\n",
       "      <td>1</td>\n",
       "    </tr>\n",
       "    <tr>\n",
       "      <th>17781</th>\n",
       "      <td>0</td>\n",
       "      <td>1</td>\n",
       "    </tr>\n",
       "  </tbody>\n",
       "</table>\n",
       "<p>17782 rows × 2 columns</p>\n",
       "</div>"
      ],
      "text/plain": [
       "       type_conventional  type_organic\n",
       "0                      1             0\n",
       "1                      1             0\n",
       "2                      1             0\n",
       "3                      1             0\n",
       "4                      1             0\n",
       "...                  ...           ...\n",
       "17777                  0             1\n",
       "17778                  0             1\n",
       "17779                  0             1\n",
       "17780                  0             1\n",
       "17781                  0             1\n",
       "\n",
       "[17782 rows x 2 columns]"
      ]
     },
     "execution_count": 50,
     "metadata": {},
     "output_type": "execute_result"
    }
   ],
   "source": [
    "dumm = pd.get_dummies(df[['type']],drop_first = False)\n",
    "dumm"
   ]
  },
  {
   "cell_type": "code",
   "execution_count": 51,
   "id": "d3786d97",
   "metadata": {},
   "outputs": [
    {
     "data": {
      "text/html": [
       "<div>\n",
       "<style scoped>\n",
       "    .dataframe tbody tr th:only-of-type {\n",
       "        vertical-align: middle;\n",
       "    }\n",
       "\n",
       "    .dataframe tbody tr th {\n",
       "        vertical-align: top;\n",
       "    }\n",
       "\n",
       "    .dataframe thead th {\n",
       "        text-align: right;\n",
       "    }\n",
       "</style>\n",
       "<table border=\"1\" class=\"dataframe\">\n",
       "  <thead>\n",
       "    <tr style=\"text-align: right;\">\n",
       "      <th></th>\n",
       "      <th>AveragePrice</th>\n",
       "      <th>4046</th>\n",
       "      <th>4225</th>\n",
       "      <th>4770</th>\n",
       "      <th>Small Bags</th>\n",
       "      <th>Large Bags</th>\n",
       "      <th>XLarge Bags</th>\n",
       "      <th>year</th>\n",
       "      <th>region</th>\n",
       "      <th>Day</th>\n",
       "      <th>Month</th>\n",
       "      <th>type_conventional</th>\n",
       "      <th>type_organic</th>\n",
       "    </tr>\n",
       "  </thead>\n",
       "  <tbody>\n",
       "    <tr>\n",
       "      <th>0</th>\n",
       "      <td>1.33</td>\n",
       "      <td>-0.649918</td>\n",
       "      <td>0.358278</td>\n",
       "      <td>-0.212550</td>\n",
       "      <td>-0.337064</td>\n",
       "      <td>-0.775214</td>\n",
       "      <td>-0.675702</td>\n",
       "      <td>2015</td>\n",
       "      <td>Albany</td>\n",
       "      <td>27</td>\n",
       "      <td>12</td>\n",
       "      <td>1</td>\n",
       "      <td>0</td>\n",
       "    </tr>\n",
       "    <tr>\n",
       "      <th>1</th>\n",
       "      <td>1.35</td>\n",
       "      <td>-0.770067</td>\n",
       "      <td>0.276355</td>\n",
       "      <td>-0.165117</td>\n",
       "      <td>-0.301038</td>\n",
       "      <td>-0.765237</td>\n",
       "      <td>-0.675702</td>\n",
       "      <td>2015</td>\n",
       "      <td>Albany</td>\n",
       "      <td>20</td>\n",
       "      <td>12</td>\n",
       "      <td>1</td>\n",
       "      <td>0</td>\n",
       "    </tr>\n",
       "    <tr>\n",
       "      <th>2</th>\n",
       "      <td>0.93</td>\n",
       "      <td>-0.724508</td>\n",
       "      <td>0.656010</td>\n",
       "      <td>0.034215</td>\n",
       "      <td>-0.364044</td>\n",
       "      <td>-0.752534</td>\n",
       "      <td>-0.675702</td>\n",
       "      <td>2015</td>\n",
       "      <td>Albany</td>\n",
       "      <td>13</td>\n",
       "      <td>12</td>\n",
       "      <td>1</td>\n",
       "      <td>0</td>\n",
       "    </tr>\n",
       "    <tr>\n",
       "      <th>3</th>\n",
       "      <td>1.08</td>\n",
       "      <td>-0.625017</td>\n",
       "      <td>0.475615</td>\n",
       "      <td>-0.110976</td>\n",
       "      <td>-0.500341</td>\n",
       "      <td>-0.693012</td>\n",
       "      <td>-0.675702</td>\n",
       "      <td>2015</td>\n",
       "      <td>Albany</td>\n",
       "      <td>6</td>\n",
       "      <td>12</td>\n",
       "      <td>1</td>\n",
       "      <td>0</td>\n",
       "    </tr>\n",
       "    <tr>\n",
       "      <th>4</th>\n",
       "      <td>1.28</td>\n",
       "      <td>-0.677083</td>\n",
       "      <td>0.268966</td>\n",
       "      <td>-0.100289</td>\n",
       "      <td>-0.479918</td>\n",
       "      <td>-0.600755</td>\n",
       "      <td>-0.675702</td>\n",
       "      <td>2015</td>\n",
       "      <td>Albany</td>\n",
       "      <td>29</td>\n",
       "      <td>11</td>\n",
       "      <td>1</td>\n",
       "      <td>0</td>\n",
       "    </tr>\n",
       "    <tr>\n",
       "      <th>...</th>\n",
       "      <td>...</td>\n",
       "      <td>...</td>\n",
       "      <td>...</td>\n",
       "      <td>...</td>\n",
       "      <td>...</td>\n",
       "      <td>...</td>\n",
       "      <td>...</td>\n",
       "      <td>...</td>\n",
       "      <td>...</td>\n",
       "      <td>...</td>\n",
       "      <td>...</td>\n",
       "      <td>...</td>\n",
       "      <td>...</td>\n",
       "    </tr>\n",
       "    <tr>\n",
       "      <th>17777</th>\n",
       "      <td>1.63</td>\n",
       "      <td>-0.454078</td>\n",
       "      <td>-0.922232</td>\n",
       "      <td>-1.224990</td>\n",
       "      <td>-0.165765</td>\n",
       "      <td>-0.405895</td>\n",
       "      <td>-0.675702</td>\n",
       "      <td>2018</td>\n",
       "      <td>WestTexNewMexico</td>\n",
       "      <td>4</td>\n",
       "      <td>2</td>\n",
       "      <td>0</td>\n",
       "      <td>1</td>\n",
       "    </tr>\n",
       "    <tr>\n",
       "      <th>17778</th>\n",
       "      <td>1.71</td>\n",
       "      <td>-0.610403</td>\n",
       "      <td>-0.665649</td>\n",
       "      <td>-1.224990</td>\n",
       "      <td>-0.321645</td>\n",
       "      <td>-0.478556</td>\n",
       "      <td>-0.675702</td>\n",
       "      <td>2018</td>\n",
       "      <td>WestTexNewMexico</td>\n",
       "      <td>28</td>\n",
       "      <td>1</td>\n",
       "      <td>0</td>\n",
       "      <td>1</td>\n",
       "    </tr>\n",
       "    <tr>\n",
       "      <th>17779</th>\n",
       "      <td>1.87</td>\n",
       "      <td>-0.610350</td>\n",
       "      <td>-0.774395</td>\n",
       "      <td>0.455355</td>\n",
       "      <td>-0.303466</td>\n",
       "      <td>-0.945246</td>\n",
       "      <td>-0.675702</td>\n",
       "      <td>2018</td>\n",
       "      <td>WestTexNewMexico</td>\n",
       "      <td>21</td>\n",
       "      <td>1</td>\n",
       "      <td>0</td>\n",
       "      <td>1</td>\n",
       "    </tr>\n",
       "    <tr>\n",
       "      <th>17780</th>\n",
       "      <td>1.93</td>\n",
       "      <td>-0.539211</td>\n",
       "      <td>-0.711605</td>\n",
       "      <td>0.455045</td>\n",
       "      <td>-0.240252</td>\n",
       "      <td>-0.910471</td>\n",
       "      <td>-0.675702</td>\n",
       "      <td>2018</td>\n",
       "      <td>WestTexNewMexico</td>\n",
       "      <td>14</td>\n",
       "      <td>1</td>\n",
       "      <td>0</td>\n",
       "      <td>1</td>\n",
       "    </tr>\n",
       "    <tr>\n",
       "      <th>17781</th>\n",
       "      <td>1.62</td>\n",
       "      <td>-0.351503</td>\n",
       "      <td>-0.787209</td>\n",
       "      <td>0.168008</td>\n",
       "      <td>-0.201685</td>\n",
       "      <td>-1.042930</td>\n",
       "      <td>-0.675702</td>\n",
       "      <td>2018</td>\n",
       "      <td>WestTexNewMexico</td>\n",
       "      <td>7</td>\n",
       "      <td>1</td>\n",
       "      <td>0</td>\n",
       "      <td>1</td>\n",
       "    </tr>\n",
       "  </tbody>\n",
       "</table>\n",
       "<p>17782 rows × 13 columns</p>\n",
       "</div>"
      ],
      "text/plain": [
       "       AveragePrice      4046      4225      4770  Small Bags  Large Bags  \\\n",
       "0              1.33 -0.649918  0.358278 -0.212550   -0.337064   -0.775214   \n",
       "1              1.35 -0.770067  0.276355 -0.165117   -0.301038   -0.765237   \n",
       "2              0.93 -0.724508  0.656010  0.034215   -0.364044   -0.752534   \n",
       "3              1.08 -0.625017  0.475615 -0.110976   -0.500341   -0.693012   \n",
       "4              1.28 -0.677083  0.268966 -0.100289   -0.479918   -0.600755   \n",
       "...             ...       ...       ...       ...         ...         ...   \n",
       "17777          1.63 -0.454078 -0.922232 -1.224990   -0.165765   -0.405895   \n",
       "17778          1.71 -0.610403 -0.665649 -1.224990   -0.321645   -0.478556   \n",
       "17779          1.87 -0.610350 -0.774395  0.455355   -0.303466   -0.945246   \n",
       "17780          1.93 -0.539211 -0.711605  0.455045   -0.240252   -0.910471   \n",
       "17781          1.62 -0.351503 -0.787209  0.168008   -0.201685   -1.042930   \n",
       "\n",
       "       XLarge Bags  year            region  Day  Month  type_conventional  \\\n",
       "0        -0.675702  2015            Albany   27     12                  1   \n",
       "1        -0.675702  2015            Albany   20     12                  1   \n",
       "2        -0.675702  2015            Albany   13     12                  1   \n",
       "3        -0.675702  2015            Albany    6     12                  1   \n",
       "4        -0.675702  2015            Albany   29     11                  1   \n",
       "...            ...   ...               ...  ...    ...                ...   \n",
       "17777    -0.675702  2018  WestTexNewMexico    4      2                  0   \n",
       "17778    -0.675702  2018  WestTexNewMexico   28      1                  0   \n",
       "17779    -0.675702  2018  WestTexNewMexico   21      1                  0   \n",
       "17780    -0.675702  2018  WestTexNewMexico   14      1                  0   \n",
       "17781    -0.675702  2018  WestTexNewMexico    7      1                  0   \n",
       "\n",
       "       type_organic  \n",
       "0                 0  \n",
       "1                 0  \n",
       "2                 0  \n",
       "3                 0  \n",
       "4                 0  \n",
       "...             ...  \n",
       "17777             1  \n",
       "17778             1  \n",
       "17779             1  \n",
       "17780             1  \n",
       "17781             1  \n",
       "\n",
       "[17782 rows x 13 columns]"
      ]
     },
     "execution_count": 51,
     "metadata": {},
     "output_type": "execute_result"
    }
   ],
   "source": [
    "df = df.join(dumm)\n",
    "df.drop(columns = ['type'],inplace=True)\n",
    "df"
   ]
  },
  {
   "cell_type": "markdown",
   "id": "8ecc4d12",
   "metadata": {},
   "source": [
    "# Encoding 'region' using Label Encoder"
   ]
  },
  {
   "cell_type": "code",
   "execution_count": 52,
   "id": "f7347461",
   "metadata": {},
   "outputs": [
    {
     "data": {
      "text/html": [
       "<div>\n",
       "<style scoped>\n",
       "    .dataframe tbody tr th:only-of-type {\n",
       "        vertical-align: middle;\n",
       "    }\n",
       "\n",
       "    .dataframe tbody tr th {\n",
       "        vertical-align: top;\n",
       "    }\n",
       "\n",
       "    .dataframe thead th {\n",
       "        text-align: right;\n",
       "    }\n",
       "</style>\n",
       "<table border=\"1\" class=\"dataframe\">\n",
       "  <thead>\n",
       "    <tr style=\"text-align: right;\">\n",
       "      <th></th>\n",
       "      <th>AveragePrice</th>\n",
       "      <th>4046</th>\n",
       "      <th>4225</th>\n",
       "      <th>4770</th>\n",
       "      <th>Small Bags</th>\n",
       "      <th>Large Bags</th>\n",
       "      <th>XLarge Bags</th>\n",
       "      <th>year</th>\n",
       "      <th>region</th>\n",
       "      <th>Day</th>\n",
       "      <th>Month</th>\n",
       "      <th>type_conventional</th>\n",
       "      <th>type_organic</th>\n",
       "    </tr>\n",
       "  </thead>\n",
       "  <tbody>\n",
       "    <tr>\n",
       "      <th>0</th>\n",
       "      <td>1.33</td>\n",
       "      <td>-0.649918</td>\n",
       "      <td>0.358278</td>\n",
       "      <td>-0.212550</td>\n",
       "      <td>-0.337064</td>\n",
       "      <td>-0.775214</td>\n",
       "      <td>-0.675702</td>\n",
       "      <td>2015</td>\n",
       "      <td>0</td>\n",
       "      <td>27</td>\n",
       "      <td>12</td>\n",
       "      <td>1</td>\n",
       "      <td>0</td>\n",
       "    </tr>\n",
       "    <tr>\n",
       "      <th>1</th>\n",
       "      <td>1.35</td>\n",
       "      <td>-0.770067</td>\n",
       "      <td>0.276355</td>\n",
       "      <td>-0.165117</td>\n",
       "      <td>-0.301038</td>\n",
       "      <td>-0.765237</td>\n",
       "      <td>-0.675702</td>\n",
       "      <td>2015</td>\n",
       "      <td>0</td>\n",
       "      <td>20</td>\n",
       "      <td>12</td>\n",
       "      <td>1</td>\n",
       "      <td>0</td>\n",
       "    </tr>\n",
       "    <tr>\n",
       "      <th>2</th>\n",
       "      <td>0.93</td>\n",
       "      <td>-0.724508</td>\n",
       "      <td>0.656010</td>\n",
       "      <td>0.034215</td>\n",
       "      <td>-0.364044</td>\n",
       "      <td>-0.752534</td>\n",
       "      <td>-0.675702</td>\n",
       "      <td>2015</td>\n",
       "      <td>0</td>\n",
       "      <td>13</td>\n",
       "      <td>12</td>\n",
       "      <td>1</td>\n",
       "      <td>0</td>\n",
       "    </tr>\n",
       "    <tr>\n",
       "      <th>3</th>\n",
       "      <td>1.08</td>\n",
       "      <td>-0.625017</td>\n",
       "      <td>0.475615</td>\n",
       "      <td>-0.110976</td>\n",
       "      <td>-0.500341</td>\n",
       "      <td>-0.693012</td>\n",
       "      <td>-0.675702</td>\n",
       "      <td>2015</td>\n",
       "      <td>0</td>\n",
       "      <td>6</td>\n",
       "      <td>12</td>\n",
       "      <td>1</td>\n",
       "      <td>0</td>\n",
       "    </tr>\n",
       "    <tr>\n",
       "      <th>4</th>\n",
       "      <td>1.28</td>\n",
       "      <td>-0.677083</td>\n",
       "      <td>0.268966</td>\n",
       "      <td>-0.100289</td>\n",
       "      <td>-0.479918</td>\n",
       "      <td>-0.600755</td>\n",
       "      <td>-0.675702</td>\n",
       "      <td>2015</td>\n",
       "      <td>0</td>\n",
       "      <td>29</td>\n",
       "      <td>11</td>\n",
       "      <td>1</td>\n",
       "      <td>0</td>\n",
       "    </tr>\n",
       "    <tr>\n",
       "      <th>...</th>\n",
       "      <td>...</td>\n",
       "      <td>...</td>\n",
       "      <td>...</td>\n",
       "      <td>...</td>\n",
       "      <td>...</td>\n",
       "      <td>...</td>\n",
       "      <td>...</td>\n",
       "      <td>...</td>\n",
       "      <td>...</td>\n",
       "      <td>...</td>\n",
       "      <td>...</td>\n",
       "      <td>...</td>\n",
       "      <td>...</td>\n",
       "    </tr>\n",
       "    <tr>\n",
       "      <th>17777</th>\n",
       "      <td>1.63</td>\n",
       "      <td>-0.454078</td>\n",
       "      <td>-0.922232</td>\n",
       "      <td>-1.224990</td>\n",
       "      <td>-0.165765</td>\n",
       "      <td>-0.405895</td>\n",
       "      <td>-0.675702</td>\n",
       "      <td>2018</td>\n",
       "      <td>53</td>\n",
       "      <td>4</td>\n",
       "      <td>2</td>\n",
       "      <td>0</td>\n",
       "      <td>1</td>\n",
       "    </tr>\n",
       "    <tr>\n",
       "      <th>17778</th>\n",
       "      <td>1.71</td>\n",
       "      <td>-0.610403</td>\n",
       "      <td>-0.665649</td>\n",
       "      <td>-1.224990</td>\n",
       "      <td>-0.321645</td>\n",
       "      <td>-0.478556</td>\n",
       "      <td>-0.675702</td>\n",
       "      <td>2018</td>\n",
       "      <td>53</td>\n",
       "      <td>28</td>\n",
       "      <td>1</td>\n",
       "      <td>0</td>\n",
       "      <td>1</td>\n",
       "    </tr>\n",
       "    <tr>\n",
       "      <th>17779</th>\n",
       "      <td>1.87</td>\n",
       "      <td>-0.610350</td>\n",
       "      <td>-0.774395</td>\n",
       "      <td>0.455355</td>\n",
       "      <td>-0.303466</td>\n",
       "      <td>-0.945246</td>\n",
       "      <td>-0.675702</td>\n",
       "      <td>2018</td>\n",
       "      <td>53</td>\n",
       "      <td>21</td>\n",
       "      <td>1</td>\n",
       "      <td>0</td>\n",
       "      <td>1</td>\n",
       "    </tr>\n",
       "    <tr>\n",
       "      <th>17780</th>\n",
       "      <td>1.93</td>\n",
       "      <td>-0.539211</td>\n",
       "      <td>-0.711605</td>\n",
       "      <td>0.455045</td>\n",
       "      <td>-0.240252</td>\n",
       "      <td>-0.910471</td>\n",
       "      <td>-0.675702</td>\n",
       "      <td>2018</td>\n",
       "      <td>53</td>\n",
       "      <td>14</td>\n",
       "      <td>1</td>\n",
       "      <td>0</td>\n",
       "      <td>1</td>\n",
       "    </tr>\n",
       "    <tr>\n",
       "      <th>17781</th>\n",
       "      <td>1.62</td>\n",
       "      <td>-0.351503</td>\n",
       "      <td>-0.787209</td>\n",
       "      <td>0.168008</td>\n",
       "      <td>-0.201685</td>\n",
       "      <td>-1.042930</td>\n",
       "      <td>-0.675702</td>\n",
       "      <td>2018</td>\n",
       "      <td>53</td>\n",
       "      <td>7</td>\n",
       "      <td>1</td>\n",
       "      <td>0</td>\n",
       "      <td>1</td>\n",
       "    </tr>\n",
       "  </tbody>\n",
       "</table>\n",
       "<p>17782 rows × 13 columns</p>\n",
       "</div>"
      ],
      "text/plain": [
       "       AveragePrice      4046      4225      4770  Small Bags  Large Bags  \\\n",
       "0              1.33 -0.649918  0.358278 -0.212550   -0.337064   -0.775214   \n",
       "1              1.35 -0.770067  0.276355 -0.165117   -0.301038   -0.765237   \n",
       "2              0.93 -0.724508  0.656010  0.034215   -0.364044   -0.752534   \n",
       "3              1.08 -0.625017  0.475615 -0.110976   -0.500341   -0.693012   \n",
       "4              1.28 -0.677083  0.268966 -0.100289   -0.479918   -0.600755   \n",
       "...             ...       ...       ...       ...         ...         ...   \n",
       "17777          1.63 -0.454078 -0.922232 -1.224990   -0.165765   -0.405895   \n",
       "17778          1.71 -0.610403 -0.665649 -1.224990   -0.321645   -0.478556   \n",
       "17779          1.87 -0.610350 -0.774395  0.455355   -0.303466   -0.945246   \n",
       "17780          1.93 -0.539211 -0.711605  0.455045   -0.240252   -0.910471   \n",
       "17781          1.62 -0.351503 -0.787209  0.168008   -0.201685   -1.042930   \n",
       "\n",
       "       XLarge Bags  year  region  Day  Month  type_conventional  type_organic  \n",
       "0        -0.675702  2015       0   27     12                  1             0  \n",
       "1        -0.675702  2015       0   20     12                  1             0  \n",
       "2        -0.675702  2015       0   13     12                  1             0  \n",
       "3        -0.675702  2015       0    6     12                  1             0  \n",
       "4        -0.675702  2015       0   29     11                  1             0  \n",
       "...            ...   ...     ...  ...    ...                ...           ...  \n",
       "17777    -0.675702  2018      53    4      2                  0             1  \n",
       "17778    -0.675702  2018      53   28      1                  0             1  \n",
       "17779    -0.675702  2018      53   21      1                  0             1  \n",
       "17780    -0.675702  2018      53   14      1                  0             1  \n",
       "17781    -0.675702  2018      53    7      1                  0             1  \n",
       "\n",
       "[17782 rows x 13 columns]"
      ]
     },
     "execution_count": 52,
     "metadata": {},
     "output_type": "execute_result"
    }
   ],
   "source": [
    "from sklearn.preprocessing import LabelEncoder\n",
    "labenc = LabelEncoder()\n",
    "df.region = labenc.fit_transform(df.region)\n",
    "df"
   ]
  },
  {
   "cell_type": "markdown",
   "id": "7b543d30",
   "metadata": {},
   "source": [
    "# Finding Correlation"
   ]
  },
  {
   "cell_type": "code",
   "execution_count": 53,
   "id": "b0e3a961",
   "metadata": {},
   "outputs": [
    {
     "data": {
      "text/html": [
       "<div>\n",
       "<style scoped>\n",
       "    .dataframe tbody tr th:only-of-type {\n",
       "        vertical-align: middle;\n",
       "    }\n",
       "\n",
       "    .dataframe tbody tr th {\n",
       "        vertical-align: top;\n",
       "    }\n",
       "\n",
       "    .dataframe thead th {\n",
       "        text-align: right;\n",
       "    }\n",
       "</style>\n",
       "<table border=\"1\" class=\"dataframe\">\n",
       "  <thead>\n",
       "    <tr style=\"text-align: right;\">\n",
       "      <th></th>\n",
       "      <th>AveragePrice</th>\n",
       "      <th>4046</th>\n",
       "      <th>4225</th>\n",
       "      <th>4770</th>\n",
       "      <th>Small Bags</th>\n",
       "      <th>Large Bags</th>\n",
       "      <th>XLarge Bags</th>\n",
       "      <th>year</th>\n",
       "      <th>region</th>\n",
       "      <th>Day</th>\n",
       "      <th>Month</th>\n",
       "      <th>type_conventional</th>\n",
       "      <th>type_organic</th>\n",
       "    </tr>\n",
       "  </thead>\n",
       "  <tbody>\n",
       "    <tr>\n",
       "      <th>AveragePrice</th>\n",
       "      <td>1.000000</td>\n",
       "      <td>-0.548618</td>\n",
       "      <td>-0.448579</td>\n",
       "      <td>-0.491320</td>\n",
       "      <td>-0.493621</td>\n",
       "      <td>-0.477879</td>\n",
       "      <td>-0.387285</td>\n",
       "      <td>0.099910</td>\n",
       "      <td>0.010428</td>\n",
       "      <td>0.024742</td>\n",
       "      <td>0.157900</td>\n",
       "      <td>-0.608447</td>\n",
       "      <td>0.608447</td>\n",
       "    </tr>\n",
       "    <tr>\n",
       "      <th>4046</th>\n",
       "      <td>-0.548618</td>\n",
       "      <td>1.000000</td>\n",
       "      <td>0.764679</td>\n",
       "      <td>0.736523</td>\n",
       "      <td>0.778765</td>\n",
       "      <td>0.601899</td>\n",
       "      <td>0.573880</td>\n",
       "      <td>-0.002396</td>\n",
       "      <td>0.159390</td>\n",
       "      <td>-0.004558</td>\n",
       "      <td>-0.025919</td>\n",
       "      <td>0.725826</td>\n",
       "      <td>-0.725826</td>\n",
       "    </tr>\n",
       "    <tr>\n",
       "      <th>4225</th>\n",
       "      <td>-0.448579</td>\n",
       "      <td>0.764679</td>\n",
       "      <td>1.000000</td>\n",
       "      <td>0.796799</td>\n",
       "      <td>0.784901</td>\n",
       "      <td>0.614878</td>\n",
       "      <td>0.584508</td>\n",
       "      <td>-0.004533</td>\n",
       "      <td>0.032273</td>\n",
       "      <td>-0.005919</td>\n",
       "      <td>-0.024708</td>\n",
       "      <td>0.747722</td>\n",
       "      <td>-0.747722</td>\n",
       "    </tr>\n",
       "    <tr>\n",
       "      <th>4770</th>\n",
       "      <td>-0.491320</td>\n",
       "      <td>0.736523</td>\n",
       "      <td>0.796799</td>\n",
       "      <td>1.000000</td>\n",
       "      <td>0.754305</td>\n",
       "      <td>0.548457</td>\n",
       "      <td>0.616413</td>\n",
       "      <td>-0.051657</td>\n",
       "      <td>0.037805</td>\n",
       "      <td>0.001383</td>\n",
       "      <td>-0.017377</td>\n",
       "      <td>0.780988</td>\n",
       "      <td>-0.780988</td>\n",
       "    </tr>\n",
       "    <tr>\n",
       "      <th>Small Bags</th>\n",
       "      <td>-0.493621</td>\n",
       "      <td>0.778765</td>\n",
       "      <td>0.784901</td>\n",
       "      <td>0.754305</td>\n",
       "      <td>1.000000</td>\n",
       "      <td>0.566307</td>\n",
       "      <td>0.603334</td>\n",
       "      <td>0.185955</td>\n",
       "      <td>0.051985</td>\n",
       "      <td>-0.000535</td>\n",
       "      <td>-0.010260</td>\n",
       "      <td>0.720466</td>\n",
       "      <td>-0.720466</td>\n",
       "    </tr>\n",
       "    <tr>\n",
       "      <th>Large Bags</th>\n",
       "      <td>-0.477879</td>\n",
       "      <td>0.601899</td>\n",
       "      <td>0.614878</td>\n",
       "      <td>0.548457</td>\n",
       "      <td>0.566307</td>\n",
       "      <td>1.000000</td>\n",
       "      <td>0.452650</td>\n",
       "      <td>0.190295</td>\n",
       "      <td>0.086573</td>\n",
       "      <td>-0.000876</td>\n",
       "      <td>-0.016942</td>\n",
       "      <td>0.500026</td>\n",
       "      <td>-0.500026</td>\n",
       "    </tr>\n",
       "    <tr>\n",
       "      <th>XLarge Bags</th>\n",
       "      <td>-0.387285</td>\n",
       "      <td>0.573880</td>\n",
       "      <td>0.584508</td>\n",
       "      <td>0.616413</td>\n",
       "      <td>0.603334</td>\n",
       "      <td>0.452650</td>\n",
       "      <td>1.000000</td>\n",
       "      <td>0.159574</td>\n",
       "      <td>-0.020865</td>\n",
       "      <td>0.010241</td>\n",
       "      <td>0.018751</td>\n",
       "      <td>0.665587</td>\n",
       "      <td>-0.665587</td>\n",
       "    </tr>\n",
       "    <tr>\n",
       "      <th>year</th>\n",
       "      <td>0.099910</td>\n",
       "      <td>-0.002396</td>\n",
       "      <td>-0.004533</td>\n",
       "      <td>-0.051657</td>\n",
       "      <td>0.185955</td>\n",
       "      <td>0.190295</td>\n",
       "      <td>0.159574</td>\n",
       "      <td>1.000000</td>\n",
       "      <td>-0.003610</td>\n",
       "      <td>0.004044</td>\n",
       "      <td>-0.173166</td>\n",
       "      <td>-0.007399</td>\n",
       "      <td>0.007399</td>\n",
       "    </tr>\n",
       "    <tr>\n",
       "      <th>region</th>\n",
       "      <td>0.010428</td>\n",
       "      <td>0.159390</td>\n",
       "      <td>0.032273</td>\n",
       "      <td>0.037805</td>\n",
       "      <td>0.051985</td>\n",
       "      <td>0.086573</td>\n",
       "      <td>-0.020865</td>\n",
       "      <td>-0.003610</td>\n",
       "      <td>1.000000</td>\n",
       "      <td>0.000751</td>\n",
       "      <td>0.002175</td>\n",
       "      <td>-0.021970</td>\n",
       "      <td>0.021970</td>\n",
       "    </tr>\n",
       "    <tr>\n",
       "      <th>Day</th>\n",
       "      <td>0.024742</td>\n",
       "      <td>-0.004558</td>\n",
       "      <td>-0.005919</td>\n",
       "      <td>0.001383</td>\n",
       "      <td>-0.000535</td>\n",
       "      <td>-0.000876</td>\n",
       "      <td>0.010241</td>\n",
       "      <td>0.004044</td>\n",
       "      <td>0.000751</td>\n",
       "      <td>1.000000</td>\n",
       "      <td>0.010456</td>\n",
       "      <td>0.002469</td>\n",
       "      <td>-0.002469</td>\n",
       "    </tr>\n",
       "    <tr>\n",
       "      <th>Month</th>\n",
       "      <td>0.157900</td>\n",
       "      <td>-0.025919</td>\n",
       "      <td>-0.024708</td>\n",
       "      <td>-0.017377</td>\n",
       "      <td>-0.010260</td>\n",
       "      <td>-0.016942</td>\n",
       "      <td>0.018751</td>\n",
       "      <td>-0.173166</td>\n",
       "      <td>0.002175</td>\n",
       "      <td>0.010456</td>\n",
       "      <td>1.000000</td>\n",
       "      <td>0.005044</td>\n",
       "      <td>-0.005044</td>\n",
       "    </tr>\n",
       "    <tr>\n",
       "      <th>type_conventional</th>\n",
       "      <td>-0.608447</td>\n",
       "      <td>0.725826</td>\n",
       "      <td>0.747722</td>\n",
       "      <td>0.780988</td>\n",
       "      <td>0.720466</td>\n",
       "      <td>0.500026</td>\n",
       "      <td>0.665587</td>\n",
       "      <td>-0.007399</td>\n",
       "      <td>-0.021970</td>\n",
       "      <td>0.002469</td>\n",
       "      <td>0.005044</td>\n",
       "      <td>1.000000</td>\n",
       "      <td>-1.000000</td>\n",
       "    </tr>\n",
       "    <tr>\n",
       "      <th>type_organic</th>\n",
       "      <td>0.608447</td>\n",
       "      <td>-0.725826</td>\n",
       "      <td>-0.747722</td>\n",
       "      <td>-0.780988</td>\n",
       "      <td>-0.720466</td>\n",
       "      <td>-0.500026</td>\n",
       "      <td>-0.665587</td>\n",
       "      <td>0.007399</td>\n",
       "      <td>0.021970</td>\n",
       "      <td>-0.002469</td>\n",
       "      <td>-0.005044</td>\n",
       "      <td>-1.000000</td>\n",
       "      <td>1.000000</td>\n",
       "    </tr>\n",
       "  </tbody>\n",
       "</table>\n",
       "</div>"
      ],
      "text/plain": [
       "                   AveragePrice      4046      4225      4770  Small Bags  \\\n",
       "AveragePrice           1.000000 -0.548618 -0.448579 -0.491320   -0.493621   \n",
       "4046                  -0.548618  1.000000  0.764679  0.736523    0.778765   \n",
       "4225                  -0.448579  0.764679  1.000000  0.796799    0.784901   \n",
       "4770                  -0.491320  0.736523  0.796799  1.000000    0.754305   \n",
       "Small Bags            -0.493621  0.778765  0.784901  0.754305    1.000000   \n",
       "Large Bags            -0.477879  0.601899  0.614878  0.548457    0.566307   \n",
       "XLarge Bags           -0.387285  0.573880  0.584508  0.616413    0.603334   \n",
       "year                   0.099910 -0.002396 -0.004533 -0.051657    0.185955   \n",
       "region                 0.010428  0.159390  0.032273  0.037805    0.051985   \n",
       "Day                    0.024742 -0.004558 -0.005919  0.001383   -0.000535   \n",
       "Month                  0.157900 -0.025919 -0.024708 -0.017377   -0.010260   \n",
       "type_conventional     -0.608447  0.725826  0.747722  0.780988    0.720466   \n",
       "type_organic           0.608447 -0.725826 -0.747722 -0.780988   -0.720466   \n",
       "\n",
       "                   Large Bags  XLarge Bags      year    region       Day  \\\n",
       "AveragePrice        -0.477879    -0.387285  0.099910  0.010428  0.024742   \n",
       "4046                 0.601899     0.573880 -0.002396  0.159390 -0.004558   \n",
       "4225                 0.614878     0.584508 -0.004533  0.032273 -0.005919   \n",
       "4770                 0.548457     0.616413 -0.051657  0.037805  0.001383   \n",
       "Small Bags           0.566307     0.603334  0.185955  0.051985 -0.000535   \n",
       "Large Bags           1.000000     0.452650  0.190295  0.086573 -0.000876   \n",
       "XLarge Bags          0.452650     1.000000  0.159574 -0.020865  0.010241   \n",
       "year                 0.190295     0.159574  1.000000 -0.003610  0.004044   \n",
       "region               0.086573    -0.020865 -0.003610  1.000000  0.000751   \n",
       "Day                 -0.000876     0.010241  0.004044  0.000751  1.000000   \n",
       "Month               -0.016942     0.018751 -0.173166  0.002175  0.010456   \n",
       "type_conventional    0.500026     0.665587 -0.007399 -0.021970  0.002469   \n",
       "type_organic        -0.500026    -0.665587  0.007399  0.021970 -0.002469   \n",
       "\n",
       "                      Month  type_conventional  type_organic  \n",
       "AveragePrice       0.157900          -0.608447      0.608447  \n",
       "4046              -0.025919           0.725826     -0.725826  \n",
       "4225              -0.024708           0.747722     -0.747722  \n",
       "4770              -0.017377           0.780988     -0.780988  \n",
       "Small Bags        -0.010260           0.720466     -0.720466  \n",
       "Large Bags        -0.016942           0.500026     -0.500026  \n",
       "XLarge Bags        0.018751           0.665587     -0.665587  \n",
       "year              -0.173166          -0.007399      0.007399  \n",
       "region             0.002175          -0.021970      0.021970  \n",
       "Day                0.010456           0.002469     -0.002469  \n",
       "Month              1.000000           0.005044     -0.005044  \n",
       "type_conventional  0.005044           1.000000     -1.000000  \n",
       "type_organic      -0.005044          -1.000000      1.000000  "
      ]
     },
     "execution_count": 53,
     "metadata": {},
     "output_type": "execute_result"
    }
   ],
   "source": [
    "t_corr =df.corr()\n",
    "t_corr.head(23)"
   ]
  },
  {
   "cell_type": "code",
   "execution_count": 54,
   "id": "f25efc98",
   "metadata": {},
   "outputs": [
    {
     "data": {
      "image/png": "[encoded data removed]",
      "text/plain": [
       "<Figure size 1080x1152 with 2 Axes>"
      ]
     },
     "metadata": {
      "needs_background": "light"
     },
     "output_type": "display_data"
    }
   ],
   "source": [
    "plt.figure(figsize=(15,16))\n",
    "sns.heatmap(t_corr,annot=True,linewidth=1)\n",
    "plt.show()"
   ]
  },
  {
   "cell_type": "markdown",
   "id": "8e1334fc",
   "metadata": {},
   "source": [
    "# Visualizing correlation of feature columns with label column."
   ]
  },
  {
   "cell_type": "code",
   "execution_count": 55,
   "id": "6cf719ab",
   "metadata": {},
   "outputs": [
    {
     "data": {
      "image/png": "[encoded data removed]",
      "text/plain": [
       "<Figure size 1440x576 with 1 Axes>"
      ]
     },
     "metadata": {
      "needs_background": "light"
     },
     "output_type": "display_data"
    }
   ],
   "source": [
    "plt.figure(figsize = (20,8))\n",
    "df.corr()['AveragePrice'].sort_values(ascending = False).drop(['AveragePrice']).plot(kind='bar',color = 'c')\n",
    "plt.xlabel('Features',fontsize=15)\n",
    "plt.ylabel('AveragePrice',fontsize=15)\n",
    "plt.title('correlation',fontsize = 18)\n",
    "plt.show()"
   ]
  },
  {
   "cell_type": "markdown",
   "id": "7a181acd",
   "metadata": {},
   "source": [
    " type_organic' has the highest positive correlation with 'AveragePrice', 'type_conventional' has the highest negative correlation while 'region' has the weakest correlation."
   ]
  },
  {
   "cell_type": "markdown",
   "id": "acedbad2",
   "metadata": {},
   "source": [
    "# Feature Selection"
   ]
  },
  {
   "cell_type": "code",
   "execution_count": 56,
   "id": "ead6c732",
   "metadata": {},
   "outputs": [],
   "source": [
    "from sklearn.preprocessing import StandardScaler"
   ]
  },
  {
   "cell_type": "code",
   "execution_count": 57,
   "id": "aeefb011",
   "metadata": {},
   "outputs": [],
   "source": [
    "X =df.drop(columns=['AveragePrice'])\n",
    "y =df['AveragePrice']\n",
    "scaler= StandardScaler()\n",
    "scaled_X = scaler.fit_transform(X)"
   ]
  },
  {
   "cell_type": "markdown",
   "id": "9aabd721",
   "metadata": {},
   "source": [
    "# Checking for Multicollinearity using Variance Inflation Factor"
   ]
  },
  {
   "cell_type": "code",
   "execution_count": 58,
   "id": "278fb360",
   "metadata": {},
   "outputs": [
    {
     "data": {
      "text/html": [
       "<div>\n",
       "<style scoped>\n",
       "    .dataframe tbody tr th:only-of-type {\n",
       "        vertical-align: middle;\n",
       "    }\n",
       "\n",
       "    .dataframe tbody tr th {\n",
       "        vertical-align: top;\n",
       "    }\n",
       "\n",
       "    .dataframe thead th {\n",
       "        text-align: right;\n",
       "    }\n",
       "</style>\n",
       "<table border=\"1\" class=\"dataframe\">\n",
       "  <thead>\n",
       "    <tr style=\"text-align: right;\">\n",
       "      <th></th>\n",
       "      <th>Features</th>\n",
       "      <th>vif</th>\n",
       "    </tr>\n",
       "  </thead>\n",
       "  <tbody>\n",
       "    <tr>\n",
       "      <th>0</th>\n",
       "      <td>4046</td>\n",
       "      <td>3.723160</td>\n",
       "    </tr>\n",
       "    <tr>\n",
       "      <th>1</th>\n",
       "      <td>4225</td>\n",
       "      <td>4.139977</td>\n",
       "    </tr>\n",
       "    <tr>\n",
       "      <th>2</th>\n",
       "      <td>4770</td>\n",
       "      <td>3.940502</td>\n",
       "    </tr>\n",
       "    <tr>\n",
       "      <th>3</th>\n",
       "      <td>Small Bags</td>\n",
       "      <td>4.103569</td>\n",
       "    </tr>\n",
       "    <tr>\n",
       "      <th>4</th>\n",
       "      <td>Large Bags</td>\n",
       "      <td>1.866024</td>\n",
       "    </tr>\n",
       "    <tr>\n",
       "      <th>5</th>\n",
       "      <td>XLarge Bags</td>\n",
       "      <td>2.039339</td>\n",
       "    </tr>\n",
       "    <tr>\n",
       "      <th>6</th>\n",
       "      <td>year</td>\n",
       "      <td>1.359839</td>\n",
       "    </tr>\n",
       "    <tr>\n",
       "      <th>7</th>\n",
       "      <td>region</td>\n",
       "      <td>1.079283</td>\n",
       "    </tr>\n",
       "    <tr>\n",
       "      <th>8</th>\n",
       "      <td>Day</td>\n",
       "      <td>1.000506</td>\n",
       "    </tr>\n",
       "    <tr>\n",
       "      <th>9</th>\n",
       "      <td>Month</td>\n",
       "      <td>1.051207</td>\n",
       "    </tr>\n",
       "    <tr>\n",
       "      <th>10</th>\n",
       "      <td>type_conventional</td>\n",
       "      <td>inf</td>\n",
       "    </tr>\n",
       "    <tr>\n",
       "      <th>11</th>\n",
       "      <td>type_organic</td>\n",
       "      <td>inf</td>\n",
       "    </tr>\n",
       "  </tbody>\n",
       "</table>\n",
       "</div>"
      ],
      "text/plain": [
       "             Features       vif\n",
       "0                4046  3.723160\n",
       "1                4225  4.139977\n",
       "2                4770  3.940502\n",
       "3          Small Bags  4.103569\n",
       "4          Large Bags  1.866024\n",
       "5         XLarge Bags  2.039339\n",
       "6                year  1.359839\n",
       "7              region  1.079283\n",
       "8                 Day  1.000506\n",
       "9               Month  1.051207\n",
       "10  type_conventional       inf\n",
       "11       type_organic       inf"
      ]
     },
     "execution_count": 58,
     "metadata": {},
     "output_type": "execute_result"
    }
   ],
   "source": [
    "from statsmodels.stats.outliers_influence import variance_inflation_factor\n",
    "vif = pd.DataFrame()\n",
    "vif[\"Features\"] = X.columns\n",
    "vif['vif'] = [variance_inflation_factor(scaled_X,i) for i in range(scaled_X.shape[1])]\n",
    "vif"
   ]
  },
  {
   "cell_type": "markdown",
   "id": "3e55531d",
   "metadata": {},
   "source": [
    " No multicollinearity"
   ]
  },
  {
   "cell_type": "code",
   "execution_count": 59,
   "id": "2e40e675",
   "metadata": {},
   "outputs": [],
   "source": [
    "from sklearn.feature_selection import SelectKBest, f_classif\n",
    "bestfeat = SelectKBest(score_func = f_classif, k = 12)\n",
    "fit = bestfeat.fit(X,y)\n",
    "dfscores = pd.DataFrame(fit.scores_)\n",
    "dfcolumns = pd.DataFrame(X.columns)"
   ]
  },
  {
   "cell_type": "code",
   "execution_count": 60,
   "id": "e9886e7f",
   "metadata": {},
   "outputs": [
    {
     "name": "stdout",
     "output_type": "stream",
     "text": [
      "              Feature      Score\n",
      "11       type_organic  49.966168\n",
      "10  type_conventional  49.966168\n",
      "0                4046  36.480181\n",
      "2                4770  27.651101\n",
      "3          Small Bags  25.039951\n",
      "4          Large Bags  23.354747\n",
      "1                4225  21.772853\n",
      "5         XLarge Bags  15.065353\n",
      "6                year   3.163539\n",
      "9               Month   2.850599\n",
      "7              region   1.291093\n",
      "8                 Day   1.249095\n"
     ]
    }
   ],
   "source": [
    "fit = bestfeat.fit(X,y)\n",
    "dfscores = pd.DataFrame(fit.scores_)\n",
    "dfcolumns = pd.DataFrame(X.columns)\n",
    "dfcolumns.head()\n",
    "featureScores = pd.concat([dfcolumns,dfscores],axis = 1)\n",
    "featureScores.columns = ['Feature', 'Score']\n",
    "print(featureScores.nlargest(22,'Score'))"
   ]
  },
  {
   "cell_type": "markdown",
   "id": "99e8c8ce",
   "metadata": {},
   "source": [
    " Selecting the best features based on scores above"
   ]
  },
  {
   "cell_type": "code",
   "execution_count": 61,
   "id": "3d6b87fd",
   "metadata": {},
   "outputs": [
    {
     "data": {
      "text/html": [
       "<div>\n",
       "<style scoped>\n",
       "    .dataframe tbody tr th:only-of-type {\n",
       "        vertical-align: middle;\n",
       "    }\n",
       "\n",
       "    .dataframe tbody tr th {\n",
       "        vertical-align: top;\n",
       "    }\n",
       "\n",
       "    .dataframe thead th {\n",
       "        text-align: right;\n",
       "    }\n",
       "</style>\n",
       "<table border=\"1\" class=\"dataframe\">\n",
       "  <thead>\n",
       "    <tr style=\"text-align: right;\">\n",
       "      <th></th>\n",
       "      <th>4046</th>\n",
       "      <th>4225</th>\n",
       "      <th>4770</th>\n",
       "      <th>Small Bags</th>\n",
       "      <th>Large Bags</th>\n",
       "      <th>XLarge Bags</th>\n",
       "      <th>year</th>\n",
       "      <th>Month</th>\n",
       "      <th>type_conventional</th>\n",
       "      <th>type_organic</th>\n",
       "    </tr>\n",
       "  </thead>\n",
       "  <tbody>\n",
       "    <tr>\n",
       "      <th>0</th>\n",
       "      <td>-0.649918</td>\n",
       "      <td>0.358278</td>\n",
       "      <td>-0.212550</td>\n",
       "      <td>-0.337064</td>\n",
       "      <td>-0.775214</td>\n",
       "      <td>-0.675702</td>\n",
       "      <td>2015</td>\n",
       "      <td>12</td>\n",
       "      <td>1</td>\n",
       "      <td>0</td>\n",
       "    </tr>\n",
       "    <tr>\n",
       "      <th>1</th>\n",
       "      <td>-0.770067</td>\n",
       "      <td>0.276355</td>\n",
       "      <td>-0.165117</td>\n",
       "      <td>-0.301038</td>\n",
       "      <td>-0.765237</td>\n",
       "      <td>-0.675702</td>\n",
       "      <td>2015</td>\n",
       "      <td>12</td>\n",
       "      <td>1</td>\n",
       "      <td>0</td>\n",
       "    </tr>\n",
       "    <tr>\n",
       "      <th>2</th>\n",
       "      <td>-0.724508</td>\n",
       "      <td>0.656010</td>\n",
       "      <td>0.034215</td>\n",
       "      <td>-0.364044</td>\n",
       "      <td>-0.752534</td>\n",
       "      <td>-0.675702</td>\n",
       "      <td>2015</td>\n",
       "      <td>12</td>\n",
       "      <td>1</td>\n",
       "      <td>0</td>\n",
       "    </tr>\n",
       "    <tr>\n",
       "      <th>3</th>\n",
       "      <td>-0.625017</td>\n",
       "      <td>0.475615</td>\n",
       "      <td>-0.110976</td>\n",
       "      <td>-0.500341</td>\n",
       "      <td>-0.693012</td>\n",
       "      <td>-0.675702</td>\n",
       "      <td>2015</td>\n",
       "      <td>12</td>\n",
       "      <td>1</td>\n",
       "      <td>0</td>\n",
       "    </tr>\n",
       "    <tr>\n",
       "      <th>4</th>\n",
       "      <td>-0.677083</td>\n",
       "      <td>0.268966</td>\n",
       "      <td>-0.100289</td>\n",
       "      <td>-0.479918</td>\n",
       "      <td>-0.600755</td>\n",
       "      <td>-0.675702</td>\n",
       "      <td>2015</td>\n",
       "      <td>11</td>\n",
       "      <td>1</td>\n",
       "      <td>0</td>\n",
       "    </tr>\n",
       "    <tr>\n",
       "      <th>...</th>\n",
       "      <td>...</td>\n",
       "      <td>...</td>\n",
       "      <td>...</td>\n",
       "      <td>...</td>\n",
       "      <td>...</td>\n",
       "      <td>...</td>\n",
       "      <td>...</td>\n",
       "      <td>...</td>\n",
       "      <td>...</td>\n",
       "      <td>...</td>\n",
       "    </tr>\n",
       "    <tr>\n",
       "      <th>17777</th>\n",
       "      <td>-0.454078</td>\n",
       "      <td>-0.922232</td>\n",
       "      <td>-1.224990</td>\n",
       "      <td>-0.165765</td>\n",
       "      <td>-0.405895</td>\n",
       "      <td>-0.675702</td>\n",
       "      <td>2018</td>\n",
       "      <td>2</td>\n",
       "      <td>0</td>\n",
       "      <td>1</td>\n",
       "    </tr>\n",
       "    <tr>\n",
       "      <th>17778</th>\n",
       "      <td>-0.610403</td>\n",
       "      <td>-0.665649</td>\n",
       "      <td>-1.224990</td>\n",
       "      <td>-0.321645</td>\n",
       "      <td>-0.478556</td>\n",
       "      <td>-0.675702</td>\n",
       "      <td>2018</td>\n",
       "      <td>1</td>\n",
       "      <td>0</td>\n",
       "      <td>1</td>\n",
       "    </tr>\n",
       "    <tr>\n",
       "      <th>17779</th>\n",
       "      <td>-0.610350</td>\n",
       "      <td>-0.774395</td>\n",
       "      <td>0.455355</td>\n",
       "      <td>-0.303466</td>\n",
       "      <td>-0.945246</td>\n",
       "      <td>-0.675702</td>\n",
       "      <td>2018</td>\n",
       "      <td>1</td>\n",
       "      <td>0</td>\n",
       "      <td>1</td>\n",
       "    </tr>\n",
       "    <tr>\n",
       "      <th>17780</th>\n",
       "      <td>-0.539211</td>\n",
       "      <td>-0.711605</td>\n",
       "      <td>0.455045</td>\n",
       "      <td>-0.240252</td>\n",
       "      <td>-0.910471</td>\n",
       "      <td>-0.675702</td>\n",
       "      <td>2018</td>\n",
       "      <td>1</td>\n",
       "      <td>0</td>\n",
       "      <td>1</td>\n",
       "    </tr>\n",
       "    <tr>\n",
       "      <th>17781</th>\n",
       "      <td>-0.351503</td>\n",
       "      <td>-0.787209</td>\n",
       "      <td>0.168008</td>\n",
       "      <td>-0.201685</td>\n",
       "      <td>-1.042930</td>\n",
       "      <td>-0.675702</td>\n",
       "      <td>2018</td>\n",
       "      <td>1</td>\n",
       "      <td>0</td>\n",
       "      <td>1</td>\n",
       "    </tr>\n",
       "  </tbody>\n",
       "</table>\n",
       "<p>17782 rows × 10 columns</p>\n",
       "</div>"
      ],
      "text/plain": [
       "           4046      4225      4770  Small Bags  Large Bags  XLarge Bags  \\\n",
       "0     -0.649918  0.358278 -0.212550   -0.337064   -0.775214    -0.675702   \n",
       "1     -0.770067  0.276355 -0.165117   -0.301038   -0.765237    -0.675702   \n",
       "2     -0.724508  0.656010  0.034215   -0.364044   -0.752534    -0.675702   \n",
       "3     -0.625017  0.475615 -0.110976   -0.500341   -0.693012    -0.675702   \n",
       "4     -0.677083  0.268966 -0.100289   -0.479918   -0.600755    -0.675702   \n",
       "...         ...       ...       ...         ...         ...          ...   \n",
       "17777 -0.454078 -0.922232 -1.224990   -0.165765   -0.405895    -0.675702   \n",
       "17778 -0.610403 -0.665649 -1.224990   -0.321645   -0.478556    -0.675702   \n",
       "17779 -0.610350 -0.774395  0.455355   -0.303466   -0.945246    -0.675702   \n",
       "17780 -0.539211 -0.711605  0.455045   -0.240252   -0.910471    -0.675702   \n",
       "17781 -0.351503 -0.787209  0.168008   -0.201685   -1.042930    -0.675702   \n",
       "\n",
       "       year  Month  type_conventional  type_organic  \n",
       "0      2015     12                  1             0  \n",
       "1      2015     12                  1             0  \n",
       "2      2015     12                  1             0  \n",
       "3      2015     12                  1             0  \n",
       "4      2015     11                  1             0  \n",
       "...     ...    ...                ...           ...  \n",
       "17777  2018      2                  0             1  \n",
       "17778  2018      1                  0             1  \n",
       "17779  2018      1                  0             1  \n",
       "17780  2018      1                  0             1  \n",
       "17781  2018      1                  0             1  \n",
       "\n",
       "[17782 rows x 10 columns]"
      ]
     },
     "execution_count": 61,
     "metadata": {},
     "output_type": "execute_result"
    }
   ],
   "source": [
    "xbest = X.drop(columns=['region','Day'])\n",
    "xbest"
   ]
  },
  {
   "cell_type": "code",
   "execution_count": 62,
   "id": "05e0ddc4",
   "metadata": {},
   "outputs": [],
   "source": [
    "xbest_ss = scaler.fit_transform(xbest) #Scaling features using Standard Scaler"
   ]
  },
  {
   "cell_type": "markdown",
   "id": "e95338d0",
   "metadata": {},
   "source": [
    " The Data to be predicted in Target / Label column is continuous in nature since it is the Average Price. Therefore Regression Models will be used."
   ]
  },
  {
   "cell_type": "markdown",
   "id": "552d49c8",
   "metadata": {},
   "source": [
    "# Regression Model Building"
   ]
  },
  {
   "cell_type": "code",
   "execution_count": 63,
   "id": "7d4db84e",
   "metadata": {},
   "outputs": [],
   "source": [
    "from sklearn.model_selection import train_test_split\n",
    "from sklearn.metrics import r2_score"
   ]
  },
  {
   "cell_type": "markdown",
   "id": "c5eb46c6",
   "metadata": {},
   "source": [
    "# Finding the Best Random State"
   ]
  },
  {
   "cell_type": "code",
   "execution_count": 64,
   "id": "45c73a5e",
   "metadata": {},
   "outputs": [
    {
     "name": "stdout",
     "output_type": "stream",
     "text": [
      "Best Accuracy is: 0.8723822201229048 on random_state: 77\n"
     ]
    }
   ],
   "source": [
    "from sklearn.ensemble import RandomForestRegressor\n",
    "maxAcc = 0\n",
    "maxRS=0\n",
    "for i in range(1,100):\n",
    "    x_train,x_test,y_train,y_test = train_test_split(xbest_ss,y,test_size = .33, random_state = i)\n",
    "    modRF =  RandomForestRegressor()\n",
    "    modRF.fit(x_train,y_train)\n",
    "    pred = modRF.predict(x_test)\n",
    "    acc  = r2_score(y_test,pred)\n",
    "    if acc>maxAcc:\n",
    "        maxAcc=acc\n",
    "        maxRS=i\n",
    "print(f\"Best Accuracy is: {maxAcc} on random_state: {maxRS}\")"
   ]
  },
  {
   "cell_type": "code",
   "execution_count": 65,
   "id": "f53155fb",
   "metadata": {},
   "outputs": [],
   "source": [
    "x_train,x_test,y_train,y_test = train_test_split(xbest_ss,y,test_size = .33, random_state =11)"
   ]
  },
  {
   "cell_type": "code",
   "execution_count": 66,
   "id": "89204280",
   "metadata": {},
   "outputs": [],
   "source": [
    "from sklearn.model_selection import GridSearchCV\n",
    "from sklearn.linear_model import Ridge\n",
    "from sklearn.tree import DecisionTreeRegressor\n",
    "from sklearn.ensemble import RandomForestRegressor\n",
    "\n",
    "from sklearn.svm import SVR\n",
    "from sklearn.metrics import r2_score,mean_squared_error"
   ]
  },
  {
   "cell_type": "code",
   "execution_count": 67,
   "id": "47dc3c28",
   "metadata": {},
   "outputs": [],
   "source": [
    "rf = RandomForestRegressor()\n",
    "dt = DecisionTreeRegressor()\n",
    "SV= SVR()\n",
    "r=Ridge()"
   ]
  },
  {
   "cell_type": "code",
   "execution_count": 68,
   "id": "24178b90",
   "metadata": {},
   "outputs": [
    {
     "data": {
      "text/plain": [
       "DecisionTreeRegressor()"
      ]
     },
     "execution_count": 68,
     "metadata": {},
     "output_type": "execute_result"
    }
   ],
   "source": [
    "rf.fit(x_train,y_train)\n",
    "SV.fit(x_train,y_train)\n",
    "r.fit(x_train,y_train)\n",
    "dt.fit(x_train,y_train)"
   ]
  },
  {
   "cell_type": "markdown",
   "id": "3e8cbcb1",
   "metadata": {},
   "source": [
    " training the model"
   ]
  },
  {
   "cell_type": "markdown",
   "id": "91cef3f4",
   "metadata": {},
   "source": [
    "# Ridge Regression Model"
   ]
  },
  {
   "cell_type": "code",
   "execution_count": 69,
   "id": "187ab665",
   "metadata": {},
   "outputs": [
    {
     "data": {
      "text/plain": [
       "0.5116272273529455"
      ]
     },
     "execution_count": 69,
     "metadata": {},
     "output_type": "execute_result"
    }
   ],
   "source": [
    "y_r_pred = r.predict(x_test)\n",
    "r2_score(y_test,y_r_pred)"
   ]
  },
  {
   "cell_type": "code",
   "execution_count": 70,
   "id": "4edc5357",
   "metadata": {},
   "outputs": [
    {
     "data": {
      "text/plain": [
       "0.07946004793834044"
      ]
     },
     "execution_count": 70,
     "metadata": {},
     "output_type": "execute_result"
    }
   ],
   "source": [
    "mean_squared_error(y_test,y_r_pred)"
   ]
  },
  {
   "cell_type": "code",
   "execution_count": 71,
   "id": "cc72a8d1",
   "metadata": {},
   "outputs": [
    {
     "data": {
      "text/plain": [
       "0.28188658701389185"
      ]
     },
     "execution_count": 71,
     "metadata": {},
     "output_type": "execute_result"
    }
   ],
   "source": [
    "np.sqrt(mean_squared_error(y_test,y_r_pred))"
   ]
  },
  {
   "cell_type": "markdown",
   "id": "2a2bcff6",
   "metadata": {},
   "source": [
    "# Random Forest Regression Model"
   ]
  },
  {
   "cell_type": "code",
   "execution_count": 72,
   "id": "4c7626bc",
   "metadata": {},
   "outputs": [
    {
     "data": {
      "text/plain": [
       "0.8705741905164274"
      ]
     },
     "execution_count": 72,
     "metadata": {},
     "output_type": "execute_result"
    }
   ],
   "source": [
    "y_rf_pred = rf.predict(x_test)\n",
    "r2_score(y_test,y_rf_pred)"
   ]
  },
  {
   "cell_type": "code",
   "execution_count": 73,
   "id": "c2c4a030",
   "metadata": {},
   "outputs": [
    {
     "data": {
      "text/plain": [
       "0.021058055653433296"
      ]
     },
     "execution_count": 73,
     "metadata": {},
     "output_type": "execute_result"
    }
   ],
   "source": [
    "mean_squared_error(y_test,y_rf_pred)"
   ]
  },
  {
   "cell_type": "code",
   "execution_count": 74,
   "id": "9d174c36",
   "metadata": {},
   "outputs": [
    {
     "data": {
      "text/plain": [
       "0.1451139402450133"
      ]
     },
     "execution_count": 74,
     "metadata": {},
     "output_type": "execute_result"
    }
   ],
   "source": [
    "np.sqrt(mean_squared_error(y_test,y_rf_pred))"
   ]
  },
  {
   "cell_type": "markdown",
   "id": "844ee211",
   "metadata": {},
   "source": [
    "# Support Vector Regression Model"
   ]
  },
  {
   "cell_type": "code",
   "execution_count": 75,
   "id": "781f5d8b",
   "metadata": {},
   "outputs": [
    {
     "data": {
      "text/plain": [
       "0.7759036796926365"
      ]
     },
     "execution_count": 75,
     "metadata": {},
     "output_type": "execute_result"
    }
   ],
   "source": [
    "y_svr_pred = SV.predict(x_test)\n",
    "r2_score(y_test,y_svr_pred)"
   ]
  },
  {
   "cell_type": "code",
   "execution_count": 76,
   "id": "0ae3de8b",
   "metadata": {},
   "outputs": [
    {
     "data": {
      "text/plain": [
       "0.03646129627152177"
      ]
     },
     "execution_count": 76,
     "metadata": {},
     "output_type": "execute_result"
    }
   ],
   "source": [
    "mean_squared_error(y_test,y_svr_pred)"
   ]
  },
  {
   "cell_type": "code",
   "execution_count": 77,
   "id": "b8e4a3d2",
   "metadata": {},
   "outputs": [
    {
     "data": {
      "text/plain": [
       "0.19094841259230663"
      ]
     },
     "execution_count": 77,
     "metadata": {},
     "output_type": "execute_result"
    }
   ],
   "source": [
    "np.sqrt(mean_squared_error(y_test,y_svr_pred))"
   ]
  },
  {
   "cell_type": "markdown",
   "id": "918778fa",
   "metadata": {},
   "source": [
    "# Decision Tree Regression Model"
   ]
  },
  {
   "cell_type": "code",
   "execution_count": 78,
   "id": "238d9329",
   "metadata": {},
   "outputs": [
    {
     "data": {
      "text/plain": [
       "0.7160469627640024"
      ]
     },
     "execution_count": 78,
     "metadata": {},
     "output_type": "execute_result"
    }
   ],
   "source": [
    "y_dt_pred = dt.predict(x_test)\n",
    "r2_score(y_test,y_dt_pred)"
   ]
  },
  {
   "cell_type": "code",
   "execution_count": 79,
   "id": "b17e9c3a",
   "metadata": {},
   "outputs": [
    {
     "data": {
      "text/plain": [
       "0.04620020446413358"
      ]
     },
     "execution_count": 79,
     "metadata": {},
     "output_type": "execute_result"
    }
   ],
   "source": [
    "mean_squared_error(y_test,y_dt_pred)"
   ]
  },
  {
   "cell_type": "code",
   "execution_count": 80,
   "id": "aedc5709",
   "metadata": {},
   "outputs": [
    {
     "data": {
      "text/plain": [
       "0.21494232822814024"
      ]
     },
     "execution_count": 80,
     "metadata": {},
     "output_type": "execute_result"
    }
   ],
   "source": [
    "np.sqrt(mean_squared_error(y_test,y_dt_pred))"
   ]
  },
  {
   "cell_type": "markdown",
   "id": "f3be9b98",
   "metadata": {},
   "source": [
    "# Model Cross Validation"
   ]
  },
  {
   "cell_type": "code",
   "execution_count": 81,
   "id": "4a7b4e8d",
   "metadata": {},
   "outputs": [],
   "source": [
    "from sklearn.model_selection import ShuffleSplit,cross_val_score"
   ]
  },
  {
   "cell_type": "markdown",
   "id": "72747695",
   "metadata": {},
   "source": [
    "# Ridge Regression"
   ]
  },
  {
   "cell_type": "code",
   "execution_count": 82,
   "id": "2d6c5554",
   "metadata": {},
   "outputs": [
    {
     "data": {
      "text/plain": [
       "0.5063982128752083"
      ]
     },
     "execution_count": 82,
     "metadata": {},
     "output_type": "execute_result"
    }
   ],
   "source": [
    "cross_val_score(r,xbest_ss,y,cv=ShuffleSplit(5)).mean()"
   ]
  },
  {
   "cell_type": "markdown",
   "id": "71af9554",
   "metadata": {},
   "source": [
    "# Random Forest Regression"
   ]
  },
  {
   "cell_type": "code",
   "execution_count": 83,
   "id": "9251447b",
   "metadata": {},
   "outputs": [
    {
     "data": {
      "text/plain": [
       "0.8802161092279818"
      ]
     },
     "execution_count": 83,
     "metadata": {},
     "output_type": "execute_result"
    }
   ],
   "source": [
    "cross_val_score(rf,xbest_ss,y,cv=ShuffleSplit(5)).mean()"
   ]
  },
  {
   "cell_type": "markdown",
   "id": "b5ef500f",
   "metadata": {},
   "source": [
    "# SV Regression"
   ]
  },
  {
   "cell_type": "code",
   "execution_count": 84,
   "id": "a48ce8eb",
   "metadata": {},
   "outputs": [
    {
     "data": {
      "text/plain": [
       "0.7704900248107839"
      ]
     },
     "execution_count": 84,
     "metadata": {},
     "output_type": "execute_result"
    }
   ],
   "source": [
    "cross_val_score(SV,xbest_ss,y,cv=ShuffleSplit(5)).mean()"
   ]
  },
  {
   "cell_type": "markdown",
   "id": "40f36044",
   "metadata": {},
   "source": [
    "# Decision Tree Regression"
   ]
  },
  {
   "cell_type": "code",
   "execution_count": 85,
   "id": "bef03854",
   "metadata": {},
   "outputs": [
    {
     "data": {
      "text/plain": [
       "0.7485531623195564"
      ]
     },
     "execution_count": 85,
     "metadata": {},
     "output_type": "execute_result"
    }
   ],
   "source": [
    "cross_val_score(dt,xbest_ss,y,cv=ShuffleSplit(5)).mean()"
   ]
  },
  {
   "cell_type": "markdown",
   "id": "f3574089",
   "metadata": {},
   "source": [
    " Based on comparing Accuracy Score results with Cross Validation results, it is determined that Random Forest Regressor is the best model. It also has the lowest Root Mean Squared Error score"
   ]
  },
  {
   "cell_type": "markdown",
   "id": "43606eea",
   "metadata": {},
   "source": [
    "# Random Forest Regressor"
   ]
  },
  {
   "cell_type": "code",
   "execution_count": 86,
   "id": "751aadfb",
   "metadata": {},
   "outputs": [
    {
     "data": {
      "text/plain": [
       "{'n_estimators': 500}"
      ]
     },
     "execution_count": 86,
     "metadata": {},
     "output_type": "execute_result"
    }
   ],
   "source": [
    "rfc=RandomForestRegressor()\n",
    "parameters = {\"n_estimators\":[10,50,100,150,200,250,500]}\n",
    "clf = GridSearchCV(rfc, parameters, cv=5,scoring=\"r2\")\n",
    "clf.fit(x_train,y_train)\n",
    "clf.best_params_"
   ]
  },
  {
   "cell_type": "code",
   "execution_count": 87,
   "id": "e71d3836",
   "metadata": {},
   "outputs": [
    {
     "name": "stdout",
     "output_type": "stream",
     "text": [
      "87.31111976775051\n"
     ]
    }
   ],
   "source": [
    "rfpred = clf.predict(x_test)\n",
    "acc = r2_score(y_test,rfpred)\n",
    "print(acc*100)"
   ]
  },
  {
   "cell_type": "markdown",
   "id": "44353e54",
   "metadata": {},
   "source": [
    " Random Forest Regressor has an accuracy of 87.29%"
   ]
  },
  {
   "cell_type": "code",
   "execution_count": 88,
   "id": "84bdfcd5",
   "metadata": {},
   "outputs": [
    {
     "data": {
      "text/plain": [
       "['BestModelAvocado.pkl']"
      ]
     },
     "execution_count": 88,
     "metadata": {},
     "output_type": "execute_result"
    }
   ],
   "source": [
    "import joblib\n",
    "joblib.dump(clf,\"BestModelAvocado.pkl\")"
   ]
  },
  {
   "cell_type": "markdown",
   "id": "88354ab8",
   "metadata": {},
   "source": [
    "# Loading The Model"
   ]
  },
  {
   "cell_type": "code",
   "execution_count": 89,
   "id": "894e7871",
   "metadata": {},
   "outputs": [],
   "source": [
    "mod=joblib.load(\"BestModelAvocado.pkl\")"
   ]
  },
  {
   "cell_type": "code",
   "execution_count": 90,
   "id": "a2fd8d93",
   "metadata": {},
   "outputs": [
    {
     "name": "stdout",
     "output_type": "stream",
     "text": [
      "[1.37078 1.1434  1.14952 ... 1.25546 2.0099  1.31112]\n"
     ]
    }
   ],
   "source": [
    "print(clf.predict(x_test))"
   ]
  },
  {
   "cell_type": "code",
   "execution_count": 91,
   "id": "d70b5789",
   "metadata": {},
   "outputs": [
    {
     "data": {
      "image/png": "[encoded data removed]",
      "text/plain": [
       "<Figure size 720x720 with 1 Axes>"
      ]
     },
     "metadata": {
      "needs_background": "light"
     },
     "output_type": "display_data"
    }
   ],
   "source": [
    "plt.figure(figsize=(10,10))\n",
    "plt.scatter(y_test, rfpred, c='red')\n",
    "plt.yscale('linear')\n",
    "plt.xscale('linear')\n",
    "\n",
    "p1 = max(max(rfpred), max(y_test))\n",
    "p2 = min(min(rfpred), min(y_test))\n",
    "plt.plot([p1, p2], [p1, p2], 'b-')\n",
    "plt.xlabel('Actual Values', fontsize=15)\n",
    "plt.ylabel('Predictions', fontsize=15)\n",
    "plt.axis('equal')\n",
    "plt.show()"
   ]
  },
  {
   "cell_type": "code",
   "execution_count": null,
   "id": "947d4688",
   "metadata": {},
   "outputs": [],
   "source": []
  }
 ],
 "metadata": {
  "kernelspec": {
   "display_name": "Python 3 (ipykernel)",
   "language": "python",
   "name": "python3"
  },
  "language_info": {
   "codemirror_mode": {
    "name": "ipython",
    "version": 3
   },
   "file_extension": ".py",
   "mimetype": "text/x-python",
   "name": "python",
   "nbconvert_exporter": "python",
   "pygments_lexer": "ipython3",
   "version": "3.9.7"
  }
 },
 "nbformat": 4,
 "nbformat_minor": 5
}
